{
  "cells": [
    {
      "cell_type": "code",
      "source": [
        "%pip install -r ../requirements.txt"
      ],
      "outputs": [
        {
          "output_type": "stream",
          "name": "stdout",
          "text": "Requirement already satisfied: azure-storage-file-datalake in /anaconda/envs/azureml_py310_sdkv2/lib/python3.10/site-packages (from -r ../requirements.txt (line 2)) (12.20.0)\nCollecting fredapi (from -r ../requirements.txt (line 3))\n  Downloading fredapi-0.5.2-py3-none-any.whl.metadata (5.0 kB)\nRequirement already satisfied: pyarrow in /anaconda/envs/azureml_py310_sdkv2/lib/python3.10/site-packages (from -r ../requirements.txt (line 4)) (20.0.0)\nCollecting pyodbc (from -r ../requirements.txt (line 7))\n  Downloading pyodbc-5.2.0-cp310-cp310-manylinux_2_17_x86_64.manylinux2014_x86_64.whl.metadata (2.7 kB)\nRequirement already satisfied: sqlalchemy in /anaconda/envs/azureml_py310_sdkv2/lib/python3.10/site-packages (from -r ../requirements.txt (line 8)) (2.0.41)\nRequirement already satisfied: mlflow in /anaconda/envs/azureml_py310_sdkv2/lib/python3.10/site-packages (from -r ../requirements.txt (line 11)) (3.1.1)\nRequirement already satisfied: azureml-mlflow in /anaconda/envs/azureml_py310_sdkv2/lib/python3.10/site-packages (from -r ../requirements.txt (line 12)) (1.60.0.post1)\nRequirement already satisfied: pandas in /anaconda/envs/azureml_py310_sdkv2/lib/python3.10/site-packages (from -r ../requirements.txt (line 13)) (1.5.3)\nRequirement already satisfied: scikit-learn in /anaconda/envs/azureml_py310_sdkv2/lib/python3.10/site-packages (from -r ../requirements.txt (line 14)) (1.7.0)\nRequirement already satisfied: shap in /anaconda/envs/azureml_py310_sdkv2/lib/python3.10/site-packages (from -r ../requirements.txt (line 15)) (0.48.0)\nRequirement already satisfied: xgboost in /anaconda/envs/azureml_py310_sdkv2/lib/python3.10/site-packages (from -r ../requirements.txt (line 16)) (3.0.5)\nCollecting python-dotenv (from -r ../requirements.txt (line 19))\n  Downloading python_dotenv-1.1.1-py3-none-any.whl.metadata (24 kB)\nRequirement already satisfied: azure-core>=1.30.0 in /anaconda/envs/azureml_py310_sdkv2/lib/python3.10/site-packages (from azure-storage-file-datalake->-r ../requirements.txt (line 2)) (1.35.0)\nRequirement already satisfied: azure-storage-blob>=12.25.1 in /anaconda/envs/azureml_py310_sdkv2/lib/python3.10/site-packages (from azure-storage-file-datalake->-r ../requirements.txt (line 2)) (12.25.1)\nRequirement already satisfied: typing-extensions>=4.6.0 in /anaconda/envs/azureml_py310_sdkv2/lib/python3.10/site-packages (from azure-storage-file-datalake->-r ../requirements.txt (line 2)) (4.14.1)\nRequirement already satisfied: isodate>=0.6.1 in /anaconda/envs/azureml_py310_sdkv2/lib/python3.10/site-packages (from azure-storage-file-datalake->-r ../requirements.txt (line 2)) (0.7.2)\nRequirement already satisfied: greenlet>=1 in /anaconda/envs/azureml_py310_sdkv2/lib/python3.10/site-packages (from sqlalchemy->-r ../requirements.txt (line 8)) (3.2.3)\nCollecting mlflow-skinny==3.1.1 (from mlflow->-r ../requirements.txt (line 11))\n  Downloading mlflow_skinny-3.1.1-py3-none-any.whl.metadata (30 kB)\nRequirement already satisfied: Flask<4 in /anaconda/envs/azureml_py310_sdkv2/lib/python3.10/site-packages (from mlflow->-r ../requirements.txt (line 11)) (3.1.1)\nRequirement already satisfied: alembic!=1.10.0,<2 in /anaconda/envs/azureml_py310_sdkv2/lib/python3.10/site-packages (from mlflow->-r ../requirements.txt (line 11)) (1.16.4)\nRequirement already satisfied: docker<8,>=4.0.0 in /anaconda/envs/azureml_py310_sdkv2/lib/python3.10/site-packages (from mlflow->-r ../requirements.txt (line 11)) (7.1.0)\nRequirement already satisfied: graphene<4 in /anaconda/envs/azureml_py310_sdkv2/lib/python3.10/site-packages (from mlflow->-r ../requirements.txt (line 11)) (3.4.3)\nRequirement already satisfied: gunicorn<24 in /anaconda/envs/azureml_py310_sdkv2/lib/python3.10/site-packages (from mlflow->-r ../requirements.txt (line 11)) (23.0.0)\nRequirement already satisfied: matplotlib<4 in /anaconda/envs/azureml_py310_sdkv2/lib/python3.10/site-packages (from mlflow->-r ../requirements.txt (line 11)) (3.10.3)\nRequirement already satisfied: numpy<3 in /anaconda/envs/azureml_py310_sdkv2/lib/python3.10/site-packages (from mlflow->-r ../requirements.txt (line 11)) (1.23.5)\nRequirement already satisfied: scipy<2 in /anaconda/envs/azureml_py310_sdkv2/lib/python3.10/site-packages (from mlflow->-r ../requirements.txt (line 11)) (1.15.3)\nRequirement already satisfied: cachetools<7,>=5.0.0 in /anaconda/envs/azureml_py310_sdkv2/lib/python3.10/site-packages (from mlflow-skinny==3.1.1->mlflow->-r ../requirements.txt (line 11)) (5.5.2)\nRequirement already satisfied: click<9,>=7.0 in /anaconda/envs/azureml_py310_sdkv2/lib/python3.10/site-packages (from mlflow-skinny==3.1.1->mlflow->-r ../requirements.txt (line 11)) (8.2.1)\nRequirement already satisfied: cloudpickle<4 in /anaconda/envs/azureml_py310_sdkv2/lib/python3.10/site-packages (from mlflow-skinny==3.1.1->mlflow->-r ../requirements.txt (line 11)) (2.2.1)\nRequirement already satisfied: databricks-sdk<1,>=0.20.0 in /anaconda/envs/azureml_py310_sdkv2/lib/python3.10/site-packages (from mlflow-skinny==3.1.1->mlflow->-r ../requirements.txt (line 11)) (0.58.0)\nRequirement already satisfied: fastapi<1 in /anaconda/envs/azureml_py310_sdkv2/lib/python3.10/site-packages (from mlflow-skinny==3.1.1->mlflow->-r ../requirements.txt (line 11)) (0.116.1)\nRequirement already satisfied: gitpython<4,>=3.1.9 in /anaconda/envs/azureml_py310_sdkv2/lib/python3.10/site-packages (from mlflow-skinny==3.1.1->mlflow->-r ../requirements.txt (line 11)) (3.1.44)\nRequirement already satisfied: importlib_metadata!=4.7.0,<9,>=3.7.0 in /anaconda/envs/azureml_py310_sdkv2/lib/python3.10/site-packages (from mlflow-skinny==3.1.1->mlflow->-r ../requirements.txt (line 11)) (8.7.0)\nRequirement already satisfied: opentelemetry-api<3,>=1.9.0 in /anaconda/envs/azureml_py310_sdkv2/lib/python3.10/site-packages (from mlflow-skinny==3.1.1->mlflow->-r ../requirements.txt (line 11)) (1.35.0)\nRequirement already satisfied: opentelemetry-sdk<3,>=1.9.0 in /anaconda/envs/azureml_py310_sdkv2/lib/python3.10/site-packages (from mlflow-skinny==3.1.1->mlflow->-r ../requirements.txt (line 11)) (1.31.1)\nRequirement already satisfied: packaging<26 in /anaconda/envs/azureml_py310_sdkv2/lib/python3.10/site-packages (from mlflow-skinny==3.1.1->mlflow->-r ../requirements.txt (line 11)) (25.0)\nRequirement already satisfied: protobuf<7,>=3.12.0 in /anaconda/envs/azureml_py310_sdkv2/lib/python3.10/site-packages (from mlflow-skinny==3.1.1->mlflow->-r ../requirements.txt (line 11)) (6.31.1)\nRequirement already satisfied: pydantic<3,>=1.10.8 in /anaconda/envs/azureml_py310_sdkv2/lib/python3.10/site-packages (from mlflow-skinny==3.1.1->mlflow->-r ../requirements.txt (line 11)) (2.11.7)\nRequirement already satisfied: pyyaml<7,>=5.1 in /anaconda/envs/azureml_py310_sdkv2/lib/python3.10/site-packages (from mlflow-skinny==3.1.1->mlflow->-r ../requirements.txt (line 11)) (6.0.2)\nRequirement already satisfied: requests<3,>=2.17.3 in /anaconda/envs/azureml_py310_sdkv2/lib/python3.10/site-packages (from mlflow-skinny==3.1.1->mlflow->-r ../requirements.txt (line 11)) (2.32.4)\nRequirement already satisfied: sqlparse<1,>=0.4.0 in /anaconda/envs/azureml_py310_sdkv2/lib/python3.10/site-packages (from mlflow-skinny==3.1.1->mlflow->-r ../requirements.txt (line 11)) (0.5.3)\nRequirement already satisfied: uvicorn<1 in /anaconda/envs/azureml_py310_sdkv2/lib/python3.10/site-packages (from mlflow-skinny==3.1.1->mlflow->-r ../requirements.txt (line 11)) (0.35.0)\nRequirement already satisfied: python-dateutil>=2.8.1 in /anaconda/envs/azureml_py310_sdkv2/lib/python3.10/site-packages (from pandas->-r ../requirements.txt (line 13)) (2.9.0.post0)\nRequirement already satisfied: pytz>=2020.1 in /anaconda/envs/azureml_py310_sdkv2/lib/python3.10/site-packages (from pandas->-r ../requirements.txt (line 13)) (2025.2)\nRequirement already satisfied: joblib>=1.2.0 in /anaconda/envs/azureml_py310_sdkv2/lib/python3.10/site-packages (from scikit-learn->-r ../requirements.txt (line 14)) (1.5.1)\nRequirement already satisfied: threadpoolctl>=3.1.0 in /anaconda/envs/azureml_py310_sdkv2/lib/python3.10/site-packages (from scikit-learn->-r ../requirements.txt (line 14)) (3.6.0)\nRequirement already satisfied: Mako in /anaconda/envs/azureml_py310_sdkv2/lib/python3.10/site-packages (from alembic!=1.10.0,<2->mlflow->-r ../requirements.txt (line 11)) (1.3.10)\nRequirement already satisfied: tomli in /anaconda/envs/azureml_py310_sdkv2/lib/python3.10/site-packages (from alembic!=1.10.0,<2->mlflow->-r ../requirements.txt (line 11)) (2.2.1)\nRequirement already satisfied: google-auth~=2.0 in /anaconda/envs/azureml_py310_sdkv2/lib/python3.10/site-packages (from databricks-sdk<1,>=0.20.0->mlflow-skinny==3.1.1->mlflow->-r ../requirements.txt (line 11)) (2.40.3)\nRequirement already satisfied: urllib3>=1.26.0 in /anaconda/envs/azureml_py310_sdkv2/lib/python3.10/site-packages (from docker<8,>=4.0.0->mlflow->-r ../requirements.txt (line 11)) (2.5.0)\nRequirement already satisfied: starlette<0.48.0,>=0.40.0 in /anaconda/envs/azureml_py310_sdkv2/lib/python3.10/site-packages (from fastapi<1->mlflow-skinny==3.1.1->mlflow->-r ../requirements.txt (line 11)) (0.47.1)\nRequirement already satisfied: blinker>=1.9.0 in /anaconda/envs/azureml_py310_sdkv2/lib/python3.10/site-packages (from Flask<4->mlflow->-r ../requirements.txt (line 11)) (1.9.0)\nRequirement already satisfied: itsdangerous>=2.2.0 in /anaconda/envs/azureml_py310_sdkv2/lib/python3.10/site-packages (from Flask<4->mlflow->-r ../requirements.txt (line 11)) (2.2.0)\nRequirement already satisfied: jinja2>=3.1.2 in /anaconda/envs/azureml_py310_sdkv2/lib/python3.10/site-packages (from Flask<4->mlflow->-r ../requirements.txt (line 11)) (3.1.6)\nRequirement already satisfied: markupsafe>=2.1.1 in /anaconda/envs/azureml_py310_sdkv2/lib/python3.10/site-packages (from Flask<4->mlflow->-r ../requirements.txt (line 11)) (3.0.2)\nRequirement already satisfied: werkzeug>=3.1.0 in /anaconda/envs/azureml_py310_sdkv2/lib/python3.10/site-packages (from Flask<4->mlflow->-r ../requirements.txt (line 11)) (3.1.3)\nRequirement already satisfied: gitdb<5,>=4.0.1 in /anaconda/envs/azureml_py310_sdkv2/lib/python3.10/site-packages (from gitpython<4,>=3.1.9->mlflow-skinny==3.1.1->mlflow->-r ../requirements.txt (line 11)) (4.0.12)\nRequirement already satisfied: smmap<6,>=3.0.1 in /anaconda/envs/azureml_py310_sdkv2/lib/python3.10/site-packages (from gitdb<5,>=4.0.1->gitpython<4,>=3.1.9->mlflow-skinny==3.1.1->mlflow->-r ../requirements.txt (line 11)) (5.0.2)\nRequirement already satisfied: pyasn1-modules>=0.2.1 in /anaconda/envs/azureml_py310_sdkv2/lib/python3.10/site-packages (from google-auth~=2.0->databricks-sdk<1,>=0.20.0->mlflow-skinny==3.1.1->mlflow->-r ../requirements.txt (line 11)) (0.4.2)\nRequirement already satisfied: rsa<5,>=3.1.4 in /anaconda/envs/azureml_py310_sdkv2/lib/python3.10/site-packages (from google-auth~=2.0->databricks-sdk<1,>=0.20.0->mlflow-skinny==3.1.1->mlflow->-r ../requirements.txt (line 11)) (4.9.1)\nRequirement already satisfied: graphql-core<3.3,>=3.1 in /anaconda/envs/azureml_py310_sdkv2/lib/python3.10/site-packages (from graphene<4->mlflow->-r ../requirements.txt (line 11)) (3.2.6)\nRequirement already satisfied: graphql-relay<3.3,>=3.1 in /anaconda/envs/azureml_py310_sdkv2/lib/python3.10/site-packages (from graphene<4->mlflow->-r ../requirements.txt (line 11)) (3.2.0)\nRequirement already satisfied: zipp>=3.20 in /anaconda/envs/azureml_py310_sdkv2/lib/python3.10/site-packages (from importlib_metadata!=4.7.0,<9,>=3.7.0->mlflow-skinny==3.1.1->mlflow->-r ../requirements.txt (line 11)) (3.23.0)\nRequirement already satisfied: contourpy>=1.0.1 in /anaconda/envs/azureml_py310_sdkv2/lib/python3.10/site-packages (from matplotlib<4->mlflow->-r ../requirements.txt (line 11)) (1.3.2)\nRequirement already satisfied: cycler>=0.10 in /anaconda/envs/azureml_py310_sdkv2/lib/python3.10/site-packages (from matplotlib<4->mlflow->-r ../requirements.txt (line 11)) (0.12.1)\nRequirement already satisfied: fonttools>=4.22.0 in /anaconda/envs/azureml_py310_sdkv2/lib/python3.10/site-packages (from matplotlib<4->mlflow->-r ../requirements.txt (line 11)) (4.58.5)\nRequirement already satisfied: kiwisolver>=1.3.1 in /anaconda/envs/azureml_py310_sdkv2/lib/python3.10/site-packages (from matplotlib<4->mlflow->-r ../requirements.txt (line 11)) (1.4.8)\nRequirement already satisfied: pillow>=8 in /anaconda/envs/azureml_py310_sdkv2/lib/python3.10/site-packages (from matplotlib<4->mlflow->-r ../requirements.txt (line 11)) (11.3.0)\nRequirement already satisfied: pyparsing>=2.3.1 in /anaconda/envs/azureml_py310_sdkv2/lib/python3.10/site-packages (from matplotlib<4->mlflow->-r ../requirements.txt (line 11)) (3.2.3)\nCollecting opentelemetry-api<3,>=1.9.0 (from mlflow-skinny==3.1.1->mlflow->-r ../requirements.txt (line 11))\n  Downloading opentelemetry_api-1.31.1-py3-none-any.whl.metadata (1.6 kB)\nRequirement already satisfied: opentelemetry-semantic-conventions==0.52b1 in /anaconda/envs/azureml_py310_sdkv2/lib/python3.10/site-packages (from opentelemetry-sdk<3,>=1.9.0->mlflow-skinny==3.1.1->mlflow->-r ../requirements.txt (line 11)) (0.52b1)\nRequirement already satisfied: deprecated>=1.2.6 in /anaconda/envs/azureml_py310_sdkv2/lib/python3.10/site-packages (from opentelemetry-api<3,>=1.9.0->mlflow-skinny==3.1.1->mlflow->-r ../requirements.txt (line 11)) (1.2.18)\nCollecting importlib_metadata!=4.7.0,<9,>=3.7.0 (from mlflow-skinny==3.1.1->mlflow->-r ../requirements.txt (line 11))\n  Downloading importlib_metadata-8.6.1-py3-none-any.whl.metadata (4.7 kB)\nRequirement already satisfied: annotated-types>=0.6.0 in /anaconda/envs/azureml_py310_sdkv2/lib/python3.10/site-packages (from pydantic<3,>=1.10.8->mlflow-skinny==3.1.1->mlflow->-r ../requirements.txt (line 11)) (0.7.0)\nRequirement already satisfied: pydantic-core==2.33.2 in /anaconda/envs/azureml_py310_sdkv2/lib/python3.10/site-packages (from pydantic<3,>=1.10.8->mlflow-skinny==3.1.1->mlflow->-r ../requirements.txt (line 11)) (2.33.2)\nRequirement already satisfied: typing-inspection>=0.4.0 in /anaconda/envs/azureml_py310_sdkv2/lib/python3.10/site-packages (from pydantic<3,>=1.10.8->mlflow-skinny==3.1.1->mlflow->-r ../requirements.txt (line 11)) (0.4.1)\nRequirement already satisfied: six>=1.5 in /anaconda/envs/azureml_py310_sdkv2/lib/python3.10/site-packages (from python-dateutil>=2.8.1->pandas->-r ../requirements.txt (line 13)) (1.17.0)\nRequirement already satisfied: charset_normalizer<4,>=2 in /anaconda/envs/azureml_py310_sdkv2/lib/python3.10/site-packages (from requests<3,>=2.17.3->mlflow-skinny==3.1.1->mlflow->-r ../requirements.txt (line 11)) (3.4.2)\nRequirement already satisfied: idna<4,>=2.5 in /anaconda/envs/azureml_py310_sdkv2/lib/python3.10/site-packages (from requests<3,>=2.17.3->mlflow-skinny==3.1.1->mlflow->-r ../requirements.txt (line 11)) (3.10)\nRequirement already satisfied: certifi>=2017.4.17 in /anaconda/envs/azureml_py310_sdkv2/lib/python3.10/site-packages (from requests<3,>=2.17.3->mlflow-skinny==3.1.1->mlflow->-r ../requirements.txt (line 11)) (2025.7.9)\nRequirement already satisfied: pyasn1>=0.1.3 in /anaconda/envs/azureml_py310_sdkv2/lib/python3.10/site-packages (from rsa<5,>=3.1.4->google-auth~=2.0->databricks-sdk<1,>=0.20.0->mlflow-skinny==3.1.1->mlflow->-r ../requirements.txt (line 11)) (0.6.1)\nRequirement already satisfied: anyio<5,>=3.6.2 in /anaconda/envs/azureml_py310_sdkv2/lib/python3.10/site-packages (from starlette<0.48.0,>=0.40.0->fastapi<1->mlflow-skinny==3.1.1->mlflow->-r ../requirements.txt (line 11)) (4.9.0)\nRequirement already satisfied: exceptiongroup>=1.0.2 in /anaconda/envs/azureml_py310_sdkv2/lib/python3.10/site-packages (from anyio<5,>=3.6.2->starlette<0.48.0,>=0.40.0->fastapi<1->mlflow-skinny==3.1.1->mlflow->-r ../requirements.txt (line 11)) (1.3.0)\nRequirement already satisfied: sniffio>=1.1 in /anaconda/envs/azureml_py310_sdkv2/lib/python3.10/site-packages (from anyio<5,>=3.6.2->starlette<0.48.0,>=0.40.0->fastapi<1->mlflow-skinny==3.1.1->mlflow->-r ../requirements.txt (line 11)) (1.3.1)\nRequirement already satisfied: h11>=0.8 in /anaconda/envs/azureml_py310_sdkv2/lib/python3.10/site-packages (from uvicorn<1->mlflow-skinny==3.1.1->mlflow->-r ../requirements.txt (line 11)) (0.16.0)\nRequirement already satisfied: jsonpickle<5.0.0 in /anaconda/envs/azureml_py310_sdkv2/lib/python3.10/site-packages (from azureml-mlflow->-r ../requirements.txt (line 12)) (4.1.1)\nINFO: pip is looking at multiple versions of azureml-mlflow to determine which version is compatible with other requirements. This could take a while.\nCollecting azureml-mlflow (from -r ../requirements.txt (line 12))\n  Downloading azureml_mlflow-1.60.0-py3-none-any.whl.metadata (2.8 kB)\nRequirement already satisfied: azure-identity in /anaconda/envs/azureml_py310_sdkv2/lib/python3.10/site-packages (from azureml-mlflow->-r ../requirements.txt (line 12)) (1.23.0)\nRequirement already satisfied: msrest>=0.6.18 in /anaconda/envs/azureml_py310_sdkv2/lib/python3.10/site-packages (from azureml-mlflow->-r ../requirements.txt (line 12)) (0.7.1)\nRequirement already satisfied: azure-mgmt-core<2.0.0,>=1.2.0 in /anaconda/envs/azureml_py310_sdkv2/lib/python3.10/site-packages (from azureml-mlflow->-r ../requirements.txt (line 12)) (1.6.0)\n  Downloading azureml_mlflow-1.59.0.post1-py3-none-any.whl.metadata (2.6 kB)\n  Downloading azureml_mlflow-1.59.0-py3-none-any.whl.metadata (2.6 kB)\n  Downloading azureml_mlflow-1.58.0.post3-py3-none-any.whl.metadata (2.5 kB)\n  Downloading azureml_mlflow-1.58.0.post2-py3-none-any.whl.metadata (2.5 kB)\n  Downloading azureml_mlflow-1.58.0.post1-py3-none-any.whl.metadata (2.5 kB)\n  Downloading azureml_mlflow-1.58.0-py3-none-any.whl.metadata (2.5 kB)\nINFO: pip is still looking at multiple versions of azureml-mlflow to determine which version is compatible with other requirements. This could take a while.\n  Downloading azureml_mlflow-1.57.0.post1-py3-none-any.whl.metadata (2.5 kB)\n  Downloading azureml_mlflow-1.57.0-py3-none-any.whl.metadata (2.5 kB)\n  Downloading azureml_mlflow-1.56.0-py3-none-any.whl.metadata (2.5 kB)\n  Downloading azureml_mlflow-1.55.0-py3-none-any.whl.metadata (2.6 kB)\n  Downloading azureml_mlflow-1.54.0.post1-py3-none-any.whl.metadata (2.5 kB)\nINFO: This is taking longer than usual. You might need to provide the dependency resolver with stricter constraints to reduce runtime. See https://pip.pypa.io/warnings/backtracking for guidance. If you want to abort this run, press Ctrl + C.\n  Downloading azureml_mlflow-1.54.0-py3-none-any.whl.metadata (2.5 kB)\n  Downloading azureml_mlflow-1.53.0-py3-none-any.whl.metadata (2.5 kB)\n  Downloading azureml_mlflow-1.52.0-py3-none-any.whl.metadata (2.5 kB)\n  Downloading azureml_mlflow-1.51.0-py3-none-any.whl.metadata (2.5 kB)\n  Downloading azureml_mlflow-1.50.0-py3-none-any.whl.metadata (2.5 kB)\n  Downloading azureml_mlflow-1.49.0-py3-none-any.whl.metadata (2.5 kB)\n  Downloading azureml_mlflow-1.48.0-py3-none-any.whl.metadata (2.4 kB)\n  Downloading azureml_mlflow-1.47.0-py3-none-any.whl.metadata (2.4 kB)\n  Downloading azureml_mlflow-1.46.0-py3-none-any.whl.metadata (2.4 kB)\n  Downloading azureml_mlflow-1.45.0-py3-none-any.whl.metadata (2.5 kB)\n  Downloading azureml_mlflow-1.44.0-py3-none-any.whl.metadata (2.5 kB)\n  Downloading azureml_mlflow-1.43.0.post1-py3-none-any.whl.metadata (2.3 kB)\n  Downloading azureml_mlflow-1.43.0-py3-none-any.whl.metadata (2.3 kB)\n  Downloading azureml_mlflow-1.42.0-py3-none-any.whl.metadata (2.0 kB)\nCollecting azureml-core~=1.42.0 (from azureml-mlflow->-r ../requirements.txt (line 12))\n  Downloading azureml_core-1.42.0.post1-py3-none-any.whl.metadata (3.2 kB)\nRequirement already satisfied: backports.tempfile in /anaconda/envs/azureml_py310_sdkv2/lib/python3.10/site-packages (from azureml-core~=1.42.0->azureml-mlflow->-r ../requirements.txt (line 12)) (1.0)\nRequirement already satisfied: pathspec<1.0.0 in /anaconda/envs/azureml_py310_sdkv2/lib/python3.10/site-packages (from azureml-core~=1.42.0->azureml-mlflow->-r ../requirements.txt (line 12)) (0.12.1)\nRequirement already satisfied: msal<2.0.0,>=1.15.0 in /anaconda/envs/azureml_py310_sdkv2/lib/python3.10/site-packages (from azureml-core~=1.42.0->azureml-mlflow->-r ../requirements.txt (line 12)) (1.32.3)\nCollecting msal-extensions<=1.0.0,>=0.3.0 (from azureml-core~=1.42.0->azureml-mlflow->-r ../requirements.txt (line 12))\n  Downloading msal_extensions-1.0.0-py2.py3-none-any.whl.metadata (7.3 kB)\nCollecting knack~=0.9.0 (from azureml-core~=1.42.0->azureml-mlflow->-r ../requirements.txt (line 12))\n  Downloading knack-0.9.0-py3-none-any.whl.metadata (5.2 kB)\nINFO: pip is looking at multiple versions of azureml-core to determine which version is compatible with other requirements. This could take a while.\nCollecting azureml-core~=1.42.0 (from azureml-mlflow->-r ../requirements.txt (line 12))\n  Downloading azureml_core-1.42.0-py3-none-any.whl.metadata (3.2 kB)\nCollecting azureml-mlflow (from -r ../requirements.txt (line 12))\n  Downloading azureml_mlflow-1.41.0.post1-py3-none-any.whl.metadata (2.0 kB)\nCollecting azureml-core~=1.41.0 (from azureml-mlflow->-r ../requirements.txt (line 12))\n  Downloading azureml_core-1.41.0.post3-py3-none-any.whl.metadata (3.2 kB)\nCollecting msal-extensions<0.4,>=0.3.0 (from azureml-core~=1.41.0->azureml-mlflow->-r ../requirements.txt (line 12))\n  Downloading msal_extensions-0.3.1-py2.py3-none-any.whl.metadata (6.3 kB)\nCollecting azureml-core~=1.41.0 (from azureml-mlflow->-r ../requirements.txt (line 12))\n  Downloading azureml_core-1.41.0.post2-py3-none-any.whl.metadata (3.2 kB)\n  Downloading azureml_core-1.41.0.post1-py3-none-any.whl.metadata (3.2 kB)\nRequirement already satisfied: pkginfo in /anaconda/envs/azureml_py310_sdkv2/lib/python3.10/site-packages (from azureml-core~=1.41.0->azureml-mlflow->-r ../requirements.txt (line 12)) (1.12.1.2)\nCollecting argcomplete<3 (from azureml-core~=1.41.0->azureml-mlflow->-r ../requirements.txt (line 12))\n  Downloading argcomplete-2.1.2-py3-none-any.whl.metadata (17 kB)\nRequirement already satisfied: humanfriendly<11.0,>=4.7 in /anaconda/envs/azureml_py310_sdkv2/lib/python3.10/site-packages (from azureml-core~=1.41.0->azureml-mlflow->-r ../requirements.txt (line 12)) (10.0)\nCollecting paramiko<3.0.0,>=2.0.8 (from azureml-core~=1.41.0->azureml-mlflow->-r ../requirements.txt (line 12))\n  Downloading paramiko-2.12.0-py2.py3-none-any.whl.metadata (4.6 kB)\nCollecting azure-mgmt-resource<21.0.0,>=15.0.0 (from azureml-core~=1.41.0->azureml-mlflow->-r ../requirements.txt (line 12))\n  Downloading azure_mgmt_resource-20.1.0-py3-none-any.whl.metadata (28 kB)\nCollecting azure-mgmt-containerregistry<10,>=8.2.0 (from azureml-core~=1.41.0->azureml-mlflow->-r ../requirements.txt (line 12))\n  Downloading azure_mgmt_containerregistry-9.1.0-py3-none-any.whl.metadata (21 kB)\nCollecting azure-mgmt-storage<20.0.0,>=16.0.0 (from azureml-core~=1.41.0->azureml-mlflow->-r ../requirements.txt (line 12))\n  Downloading azure_mgmt_storage-19.1.0-py3-none-any.whl.metadata (26 kB)\nCollecting azure-mgmt-keyvault<10.0.0,>=0.40.0 (from azureml-core~=1.41.0->azureml-mlflow->-r ../requirements.txt (line 12))\n  Downloading azure_mgmt_keyvault-9.3.0-py2.py3-none-any.whl.metadata (12 kB)\nCollecting azure-mgmt-authorization<3,>=0.40.0 (from azureml-core~=1.41.0->azureml-mlflow->-r ../requirements.txt (line 12))\n  Downloading azure_mgmt_authorization-2.0.0-py2.py3-none-any.whl.metadata (11 kB)\nRequirement already satisfied: azure-graphrbac<1.0.0,>=0.40.0 in /anaconda/envs/azureml_py310_sdkv2/lib/python3.10/site-packages (from azureml-core~=1.41.0->azureml-mlflow->-r ../requirements.txt (line 12)) (0.61.2)\nRequirement already satisfied: azure-common<2.0.0,>=1.1.12 in /anaconda/envs/azureml_py310_sdkv2/lib/python3.10/site-packages (from azureml-core~=1.41.0->azureml-mlflow->-r ../requirements.txt (line 12)) (1.1.28)\nCollecting msrestazure<=0.6.4,>=0.4.33 (from azureml-core~=1.41.0->azureml-mlflow->-r ../requirements.txt (line 12))\n  Downloading msrestazure-0.6.4-py2.py3-none-any.whl.metadata (15 kB)\nCollecting urllib3>=1.26.0 (from docker<8,>=4.0.0->mlflow->-r ../requirements.txt (line 11))\n  Downloading urllib3-1.26.7-py2.py3-none-any.whl.metadata (44 kB)\nCollecting packaging<26 (from mlflow-skinny==3.1.1->mlflow->-r ../requirements.txt (line 11))\n  Downloading packaging-21.3-py3-none-any.whl.metadata (15 kB)\nCollecting cryptography!=1.9,!=2.0.*,!=2.1.*,!=2.2.*,<37.0.0 (from azureml-core~=1.41.0->azureml-mlflow->-r ../requirements.txt (line 12))\n  Downloading cryptography-36.0.2-cp36-abi3-manylinux_2_24_x86_64.whl.metadata (5.4 kB)\nRequirement already satisfied: ndg-httpsclient<=0.5.1 in /anaconda/envs/azureml_py310_sdkv2/lib/python3.10/site-packages (from azureml-core~=1.41.0->azureml-mlflow->-r ../requirements.txt (line 12)) (0.5.1)\nRequirement already satisfied: SecretStorage<4.0.0 in /anaconda/envs/azureml_py310_sdkv2/lib/python3.10/site-packages (from azureml-core~=1.41.0->azureml-mlflow->-r ../requirements.txt (line 12)) (3.3.3)\nCollecting jsonpickle (from azureml-mlflow->-r ../requirements.txt (line 12))\n  Downloading jsonpickle-2.2.0-py2.py3-none-any.whl.metadata (7.6 kB)\nRequirement already satisfied: contextlib2<22.0.0 in /anaconda/envs/azureml_py310_sdkv2/lib/python3.10/site-packages (from azureml-core~=1.41.0->azureml-mlflow->-r ../requirements.txt (line 12)) (21.6.0)\nCollecting docker<8,>=4.0.0 (from mlflow->-r ../requirements.txt (line 11))\n  Downloading docker-5.0.3-py2.py3-none-any.whl.metadata (3.5 kB)\nRequirement already satisfied: PyJWT<3.0.0 in /anaconda/envs/azureml_py310_sdkv2/lib/python3.10/site-packages (from azureml-core~=1.41.0->azureml-mlflow->-r ../requirements.txt (line 12)) (2.10.1)\nRequirement already satisfied: adal<=1.2.7,>=1.2.0 in /anaconda/envs/azureml_py310_sdkv2/lib/python3.10/site-packages (from azureml-core~=1.41.0->azureml-mlflow->-r ../requirements.txt (line 12)) (1.2.7)\nCollecting pyopenssl<23.0.0 (from azureml-core~=1.41.0->azureml-mlflow->-r ../requirements.txt (line 12))\n  Downloading pyOpenSSL-22.1.0-py3-none-any.whl.metadata (8.9 kB)\nCollecting jmespath<1.0.0 (from azureml-core~=1.41.0->azureml-mlflow->-r ../requirements.txt (line 12))\n  Downloading jmespath-0.10.0-py2.py3-none-any.whl.metadata (8.0 kB)\nRequirement already satisfied: cffi>=1.12 in /anaconda/envs/azureml_py310_sdkv2/lib/python3.10/site-packages (from cryptography!=1.9,!=2.0.*,!=2.1.*,!=2.2.*,<37.0.0->azureml-core~=1.41.0->azureml-mlflow->-r ../requirements.txt (line 12)) (1.17.1)\nCollecting websocket-client>=0.32.0 (from docker<8,>=4.0.0->mlflow->-r ../requirements.txt (line 11))\n  Downloading websocket_client-1.8.0-py3-none-any.whl.metadata (8.0 kB)\nRequirement already satisfied: pygments in /anaconda/envs/azureml_py310_sdkv2/lib/python3.10/site-packages (from knack~=0.9.0->azureml-core~=1.42.0->azureml-mlflow->-r ../requirements.txt (line 12)) (2.19.2)\nRequirement already satisfied: tabulate in /anaconda/envs/azureml_py310_sdkv2/lib/python3.10/site-packages (from knack~=0.9.0->azureml-core~=1.42.0->azureml-mlflow->-r ../requirements.txt (line 12)) (0.9.0)\nCollecting portalocker<3,>=1.0 (from msal-extensions<0.4,>=0.3.0->azureml-core~=1.41.0->azureml-mlflow->-r ../requirements.txt (line 12))\n  Downloading portalocker-2.10.1-py3-none-any.whl.metadata (8.5 kB)\nRequirement already satisfied: requests-oauthlib>=0.5.0 in /anaconda/envs/azureml_py310_sdkv2/lib/python3.10/site-packages (from msrest>=0.6.18->azureml-mlflow->-r ../requirements.txt (line 12)) (2.0.0)\nRequirement already satisfied: bcrypt>=3.1.3 in /anaconda/envs/azureml_py310_sdkv2/lib/python3.10/site-packages (from paramiko<3.0.0,>=2.0.8->azureml-core~=1.41.0->azureml-mlflow->-r ../requirements.txt (line 12)) (4.3.0)\nRequirement already satisfied: pynacl>=1.0.1 in /anaconda/envs/azureml_py310_sdkv2/lib/python3.10/site-packages (from paramiko<3.0.0,>=2.0.8->azureml-core~=1.41.0->azureml-mlflow->-r ../requirements.txt (line 12)) (1.5.0)\nINFO: pip is looking at multiple versions of pyopenssl to determine which version is compatible with other requirements. This could take a while.\nCollecting pyopenssl<23.0.0 (from azureml-core~=1.41.0->azureml-mlflow->-r ../requirements.txt (line 12))\n  Downloading pyOpenSSL-22.0.0-py2.py3-none-any.whl.metadata (7.8 kB)\nRequirement already satisfied: PySocks!=1.5.7,>=1.5.6 in /anaconda/envs/azureml_py310_sdkv2/lib/python3.10/site-packages (from requests[socks]<3.0.0,>=2.19.1->azureml-core~=1.42.0->azureml-mlflow->-r ../requirements.txt (line 12)) (1.7.1)\nRequirement already satisfied: jeepney>=0.6 in /anaconda/envs/azureml_py310_sdkv2/lib/python3.10/site-packages (from SecretStorage<4.0.0->azureml-core~=1.41.0->azureml-mlflow->-r ../requirements.txt (line 12)) (0.9.0)\nRequirement already satisfied: tqdm>=4.27.0 in /anaconda/envs/azureml_py310_sdkv2/lib/python3.10/site-packages (from shap->-r ../requirements.txt (line 15)) (4.67.1)\nRequirement already satisfied: slicer==0.0.8 in /anaconda/envs/azureml_py310_sdkv2/lib/python3.10/site-packages (from shap->-r ../requirements.txt (line 15)) (0.0.8)\nRequirement already satisfied: numba>=0.54 in /anaconda/envs/azureml_py310_sdkv2/lib/python3.10/site-packages (from shap->-r ../requirements.txt (line 15)) (0.62.1)\nRequirement already satisfied: nvidia-nccl-cu12 in /anaconda/envs/azureml_py310_sdkv2/lib/python3.10/site-packages (from xgboost->-r ../requirements.txt (line 16)) (2.28.3)\nRequirement already satisfied: pycparser in /anaconda/envs/azureml_py310_sdkv2/lib/python3.10/site-packages (from cffi>=1.12->cryptography!=1.9,!=2.0.*,!=2.1.*,!=2.2.*,<37.0.0->azureml-core~=1.41.0->azureml-mlflow->-r ../requirements.txt (line 12)) (2.22)\nRequirement already satisfied: wrapt<2,>=1.10 in /anaconda/envs/azureml_py310_sdkv2/lib/python3.10/site-packages (from deprecated>=1.2.6->opentelemetry-api<3,>=1.9.0->mlflow-skinny==3.1.1->mlflow->-r ../requirements.txt (line 11)) (1.17.2)\nRequirement already satisfied: llvmlite<0.46,>=0.45.0dev0 in /anaconda/envs/azureml_py310_sdkv2/lib/python3.10/site-packages (from numba>=0.54->shap->-r ../requirements.txt (line 15)) (0.45.1)\nRequirement already satisfied: oauthlib>=3.0.0 in /anaconda/envs/azureml_py310_sdkv2/lib/python3.10/site-packages (from requests-oauthlib>=0.5.0->msrest>=0.6.18->azureml-mlflow->-r ../requirements.txt (line 12)) (3.3.1)\nRequirement already satisfied: backports.weakref in /anaconda/envs/azureml_py310_sdkv2/lib/python3.10/site-packages (from backports.tempfile->azureml-core~=1.42.0->azureml-mlflow->-r ../requirements.txt (line 12)) (1.0.post1)\nDownloading fredapi-0.5.2-py3-none-any.whl (11 kB)\nDownloading pyodbc-5.2.0-cp310-cp310-manylinux_2_17_x86_64.manylinux2014_x86_64.whl (336 kB)\nDownloading mlflow_skinny-3.1.1-py3-none-any.whl (1.9 MB)\n\u001b[2K   \u001b[90m━━━━━━━━━━━━━━━━━━━━━━━━━━━━━━━━━━━━━━━━\u001b[0m \u001b[32m1.9/1.9 MB\u001b[0m \u001b[31m15.7 MB/s\u001b[0m eta \u001b[36m0:00:00\u001b[0m\n\u001b[?25hDownloading opentelemetry_api-1.31.1-py3-none-any.whl (65 kB)\nDownloading importlib_metadata-8.6.1-py3-none-any.whl (26 kB)\nDownloading azureml_mlflow-1.41.0.post1-py3-none-any.whl (51 kB)\nDownloading azureml_core-1.41.0.post1-py3-none-any.whl (2.7 MB)\n\u001b[2K   \u001b[90m━━━━━━━━━━━━━━━━━━━━━━━━━━━━━━━━━━━━━━━━\u001b[0m \u001b[32m2.7/2.7 MB\u001b[0m \u001b[31m2.6 MB/s\u001b[0m eta \u001b[36m0:00:00\u001b[0mta \u001b[36m0:00:01\u001b[0m\n\u001b[?25hDownloading argcomplete-2.1.2-py3-none-any.whl (37 kB)\nDownloading azure_mgmt_authorization-2.0.0-py2.py3-none-any.whl (465 kB)\nDownloading azure_mgmt_containerregistry-9.1.0-py3-none-any.whl (1.1 MB)\n\u001b[2K   \u001b[90m━━━━━━━━━━━━━━━━━━━━━━━━━━━━━━━━━━━━━━━━\u001b[0m \u001b[32m1.1/1.1 MB\u001b[0m \u001b[31m23.3 MB/s\u001b[0m eta \u001b[36m0:00:00\u001b[0m\n\u001b[?25hDownloading azure_mgmt_keyvault-9.3.0-py2.py3-none-any.whl (412 kB)\nDownloading azure_mgmt_resource-20.1.0-py3-none-any.whl (2.3 MB)\n\u001b[2K   \u001b[90m━━━━━━━━━━━━━━━━━━━━━━━━━━━━━━━━━━━━━━━━\u001b[0m \u001b[32m2.3/2.3 MB\u001b[0m \u001b[31m39.1 MB/s\u001b[0m eta \u001b[36m0:00:00\u001b[0m\n\u001b[?25hDownloading azure_mgmt_storage-19.1.0-py3-none-any.whl (1.8 MB)\n\u001b[2K   \u001b[90m━━━━━━━━━━━━━━━━━━━━━━━━━━━━━━━━━━━━━━━━\u001b[0m \u001b[32m1.8/1.8 MB\u001b[0m \u001b[31m39.7 MB/s\u001b[0m eta \u001b[36m0:00:00\u001b[0m\n\u001b[?25hDownloading cryptography-36.0.2-cp36-abi3-manylinux_2_24_x86_64.whl (3.6 MB)\n\u001b[2K   \u001b[90m━━━━━━━━━━━━━━━━━━━━━━━━━━━━━━━━━━━━━━━━\u001b[0m \u001b[32m3.6/3.6 MB\u001b[0m \u001b[31m54.7 MB/s\u001b[0m eta \u001b[36m0:00:00\u001b[0m\n\u001b[?25hDownloading docker-5.0.3-py2.py3-none-any.whl (146 kB)\nDownloading jmespath-0.10.0-py2.py3-none-any.whl (24 kB)\nDownloading jsonpickle-2.2.0-py2.py3-none-any.whl (39 kB)\nDownloading knack-0.9.0-py3-none-any.whl (59 kB)\nDownloading msal_extensions-0.3.1-py2.py3-none-any.whl (18 kB)\nDownloading msrestazure-0.6.4-py2.py3-none-any.whl (40 kB)\nDownloading packaging-21.3-py3-none-any.whl (40 kB)\nDownloading paramiko-2.12.0-py2.py3-none-any.whl (213 kB)\nDownloading portalocker-2.10.1-py3-none-any.whl (18 kB)\nDownloading pyOpenSSL-22.0.0-py2.py3-none-any.whl (55 kB)\nDownloading urllib3-1.26.7-py2.py3-none-any.whl (138 kB)\nDownloading python_dotenv-1.1.1-py3-none-any.whl (20 kB)\nDownloading websocket_client-1.8.0-py3-none-any.whl (58 kB)\nInstalling collected packages: websocket-client, urllib3, python-dotenv, pyodbc, portalocker, packaging, jsonpickle, jmespath, importlib_metadata, argcomplete, opentelemetry-api, knack, cryptography, pyopenssl, paramiko, fredapi, docker, msrestazure, msal-extensions, mlflow-skinny, azure-mgmt-storage, azure-mgmt-resource, azure-mgmt-keyvault, azure-mgmt-containerregistry, azure-mgmt-authorization, azureml-core, azureml-mlflow\n\u001b[2K  Attempting uninstall: urllib3\n\u001b[2K    Found existing installation: urllib3 2.5.0\n\u001b[2K    Uninstalling urllib3-2.5.0:\n\u001b[2K      Successfully uninstalled urllib3-2.5.0\n\u001b[2K  Attempting uninstall: packaging━━━━━━━━━━━━━━━━━━━━━━━━━━━━━━━━━\u001b[0m \u001b[32m 2/27\u001b[0m [python-dotenv]\n\u001b[2K    Found existing installation: packaging 25.0━━━━━━━━━━━━━━━\u001b[0m \u001b[32m 2/27\u001b[0m [python-dotenv]\n\u001b[2K    Uninstalling packaging-25.0:━━━━━━━━━━━━━━━━━━━━━━━━━━━━━━\u001b[0m \u001b[32m 2/27\u001b[0m [python-dotenv]\n\u001b[2K      Successfully uninstalled packaging-25.0━━━━━━━━━━━━━━━━━\u001b[0m \u001b[32m 2/27\u001b[0m [python-dotenv]\n\u001b[2K  Attempting uninstall: jsonpickle━━━━━━━━━━━━━━━━━━━━━━━━━━━━\u001b[0m \u001b[32m 2/27\u001b[0m [python-dotenv]\n\u001b[2K    Found existing installation: jsonpickle 4.1.1━━━━━━━━━━━━━\u001b[0m \u001b[32m 2/27\u001b[0m [python-dotenv]\n\u001b[2K    Uninstalling jsonpickle-4.1.1:m━━━━━━━━━━━━━━━━━━━━━━━━━━━━━━━\u001b[0m \u001b[32m 6/27\u001b[0m [jsonpickle]\n\u001b[2K      Successfully uninstalled jsonpickle-4.1.1━━━━━━━━━━━━━━━\u001b[0m \u001b[32m 6/27\u001b[0m [jsonpickle]\n\u001b[2K  Attempting uninstall: jmespath━━━━━━━━━━━━━━━━━━━━━━━━━━━━━━\u001b[0m \u001b[32m 6/27\u001b[0m [jsonpickle]\n\u001b[2K    Found existing installation: jmespath 1.0.1━━━━━━━━━━━━━━━\u001b[0m \u001b[32m 6/27\u001b[0m [jsonpickle]\n\u001b[2K    Uninstalling jmespath-1.0.1:━━━━━━━━━━━━━━━━━━━━━━━━━━━━━━\u001b[0m \u001b[32m 6/27\u001b[0m [jsonpickle]\n\u001b[2K      Successfully uninstalled jmespath-1.0.1━━━━━━━━━━━━━━━━━\u001b[0m \u001b[32m 6/27\u001b[0m [jsonpickle]\n\u001b[2K  Attempting uninstall: importlib_metadata━━━━━━━━━━━━━━━━━━━━\u001b[0m \u001b[32m 6/27\u001b[0m [jsonpickle]\n\u001b[2K    Found existing installation: importlib_metadata 8.7.0━━━━━\u001b[0m \u001b[32m 6/27\u001b[0m [jsonpickle]\n\u001b[2K    Uninstalling importlib_metadata-8.7.0:━━━━━━━━━━━━━━━━━━━━\u001b[0m \u001b[32m 6/27\u001b[0m [jsonpickle]\n\u001b[2K      Successfully uninstalled importlib_metadata-8.7.0━━━━━━━\u001b[0m \u001b[32m 6/27\u001b[0m [jsonpickle]\n\u001b[2K  Attempting uninstall: argcomplete━━━━━━━━━━━━━━━━━━━━━━━━━━━\u001b[0m \u001b[32m 6/27\u001b[0m [jsonpickle]\n\u001b[2K    Found existing installation: argcomplete 3.6.2━━━━━━━━━━━━\u001b[0m \u001b[32m 6/27\u001b[0m [jsonpickle]\n\u001b[2K    Uninstalling argcomplete-3.6.2:\u001b[90m━━━━━━━━━━━━━━━━━━━━━━━━━━\u001b[0m \u001b[32m 9/27\u001b[0m [argcomplete]\n\u001b[2K      Successfully uninstalled argcomplete-3.6.2━━━━━━━━━━━━━━\u001b[0m \u001b[32m 9/27\u001b[0m [argcomplete]\n\u001b[2K  Attempting uninstall: opentelemetry-api━━━━━━━━━━━━━━━━━━━━━\u001b[0m \u001b[32m 9/27\u001b[0m [argcomplete]\n\u001b[2K    Found existing installation: opentelemetry-api 1.35.0━━━━━\u001b[0m \u001b[32m 9/27\u001b[0m [argcomplete]\n\u001b[2K    Uninstalling opentelemetry-api-1.35.0:━━━━━━━━━━━━━━━━━━━━\u001b[0m \u001b[32m 9/27\u001b[0m [argcomplete]\n\u001b[2K      Successfully uninstalled opentelemetry-api-1.35.0━━━━━━━━━━━\u001b[0m \u001b[32m10/27\u001b[0m [opentelemetry-api]\n\u001b[2K  Attempting uninstall: knack1m╸\u001b[0m\u001b[90m━━━━━━━━━━━━━━━━━━━━━━━━━\u001b[0m \u001b[32m10/27\u001b[0m [opentelemetry-api]\n\u001b[2K    Found existing installation: knack 0.12.0━━━━━━━━━━━━━━━━━\u001b[0m \u001b[32m10/27\u001b[0m [opentelemetry-api]\n\u001b[2K    Uninstalling knack-0.12.0:0m\u001b[90m━━━━━━━━━━━━━━━━━━━━━━━━━\u001b[0m \u001b[32m10/27\u001b[0m [opentelemetry-api]\n\u001b[2K      Successfully uninstalled knack-0.12.0━━━━━━━━━━━━━━━━━━━\u001b[0m \u001b[32m10/27\u001b[0m [opentelemetry-api]\n\u001b[2K  Attempting uninstall: cryptographym━━━━━━━━━━━━━━━━━━━━━━━━━\u001b[0m \u001b[32m10/27\u001b[0m [opentelemetry-api]\n\u001b[2K    Found existing installation: cryptography 45.0.5━━━━━━━━━━\u001b[0m \u001b[32m10/27\u001b[0m [opentelemetry-api]\n\u001b[2K    Uninstalling cryptography-45.0.5:━━━━━━━━━━━━━━━━━━━━━━━━━\u001b[0m \u001b[32m10/27\u001b[0m [opentelemetry-api]\n\u001b[2K      Successfully uninstalled cryptography-45.0.5━━━━━━━━━━━━\u001b[0m \u001b[32m10/27\u001b[0m [opentelemetry-api]\n\u001b[2K  Attempting uninstall: pyopensslm╸\u001b[0m\u001b[90m━━━━━━━━━━━━━━━━━━━━━━\u001b[0m \u001b[32m12/27\u001b[0m [cryptography]]\n\u001b[2K    Found existing installation: pyOpenSSL 25.1.0━━━━━━━━━━━━━\u001b[0m \u001b[32m12/27\u001b[0m [cryptography]\n\u001b[2K    Uninstalling pyOpenSSL-25.1.0:m\u001b[90m━━━━━━━━━━━━━━━━━━━━━━\u001b[0m \u001b[32m12/27\u001b[0m [cryptography]\n\u001b[2K      Successfully uninstalled pyOpenSSL-25.1.0━━━━━━━━━━━━━━━\u001b[0m \u001b[32m12/27\u001b[0m [cryptography]\n\u001b[2K  Attempting uninstall: paramiko[0m\u001b[90m━━━━━━━━━━━━━━━━━━━━━━\u001b[0m \u001b[32m12/27\u001b[0m [cryptography]\n\u001b[2K    Found existing installation: paramiko 3.5.1━━━━━━━━━━━━━━━\u001b[0m \u001b[32m12/27\u001b[0m [cryptography]\n\u001b[2K    Uninstalling paramiko-3.5.1:[0m\u001b[90m━━━━━━━━━━━━━━━━━━━━━━\u001b[0m \u001b[32m12/27\u001b[0m [cryptography]\n\u001b[2K      Successfully uninstalled paramiko-3.5.1━━━━━━━━━━━━━━━━━\u001b[0m \u001b[32m12/27\u001b[0m [cryptography]\n\u001b[2K  Attempting uninstall: docker0m\u001b[91m╸\u001b[0m\u001b[90m━━━━━━━━━━━━━━━━━━━\u001b[0m \u001b[32m14/27\u001b[0m [paramiko]\n\u001b[2K    Found existing installation: docker 7.1.0━━━━━━━━━━━━━━━━━\u001b[0m \u001b[32m14/27\u001b[0m [paramiko]\n\u001b[2K    Uninstalling docker-7.1.0:91m╸\u001b[0m\u001b[90m━━━━━━━━━━━━━━━━━━━\u001b[0m \u001b[32m14/27\u001b[0m [paramiko]\n\u001b[2K      Successfully uninstalled docker-7.1.0━━━━━━━━━━━━━━━━━━━\u001b[0m \u001b[32m14/27\u001b[0m [paramiko]\n\u001b[2K  Attempting uninstall: msrestazure\u001b[91m╸\u001b[0m\u001b[90m━━━━━━━━━━━━━━━━\u001b[0m \u001b[32m16/27\u001b[0m [docker]\n\u001b[2K    Found existing installation: msrestazure 0.6.4.post1━━━━━━\u001b[0m \u001b[32m16/27\u001b[0m [docker]\n\u001b[2K    Uninstalling msrestazure-0.6.4.post1:\u001b[90m━━━━━━━━━━━━━━━━\u001b[0m \u001b[32m16/27\u001b[0m [docker]\n\u001b[2K      Successfully uninstalled msrestazure-0.6.4.post1━━━━━━━━\u001b[0m \u001b[32m16/27\u001b[0m [docker]\n\u001b[2K  Attempting uninstall: msal-extensions0m\u001b[90m━━━━━━━━━━━━━━━━\u001b[0m \u001b[32m16/27\u001b[0m [docker]\n\u001b[2K    Found existing installation: msal-extensions 1.3.1━━━━━━━━\u001b[0m \u001b[32m16/27\u001b[0m [docker]\n\u001b[2K    Uninstalling msal-extensions-1.3.1:0m\u001b[90m━━━━━━━━━━━━━━━━\u001b[0m \u001b[32m16/27\u001b[0m [docker]\n\u001b[2K      Successfully uninstalled msal-extensions-1.3.1━━━━━━━━━━\u001b[0m \u001b[32m16/27\u001b[0m [docker]\n\u001b[2K  Attempting uninstall: mlflow-skinnym\u001b[91m╸\u001b[0m\u001b[90m━━━━━━━━━━━━━\u001b[0m \u001b[32m18/27\u001b[0m [msal-extensions]\n\u001b[2K    Found existing installation: mlflow-skinny 2.22.1━━━━━━━━━\u001b[0m \u001b[32m18/27\u001b[0m [msal-extensions]\n\u001b[2K    Uninstalling mlflow-skinny-2.22.1:0m\u001b[90m╺\u001b[0m\u001b[90m━━━━━━━━━━━\u001b[0m \u001b[32m19/27\u001b[0m [mlflow-skinny]\n\u001b[2K      Successfully uninstalled mlflow-skinny-2.22.1[90m━━━━━━━━━━━\u001b[0m \u001b[32m19/27\u001b[0m [mlflow-skinny]\n\u001b[2K  Attempting uninstall: azure-mgmt-storage90m╺\u001b[0m\u001b[90m━━━━━━━━━━━\u001b[0m \u001b[32m19/27\u001b[0m [mlflow-skinny]\n\u001b[2K    Found existing installation: azure-mgmt-storage 23.0.0━━━━\u001b[0m \u001b[32m19/27\u001b[0m [mlflow-skinny]\n\u001b[2K    Uninstalling azure-mgmt-storage-23.0.0:[0m\u001b[90m━━━━━━━━━━━\u001b[0m \u001b[32m19/27\u001b[0m [mlflow-skinny]\n\u001b[2K      Successfully uninstalled azure-mgmt-storage-23.0.0━━━━━━\u001b[0m \u001b[32m19/27\u001b[0m [mlflow-skinny]\n\u001b[2K  Attempting uninstall: azure-mgmt-resource91m╸\u001b[0m\u001b[90m━━━━━━━━━━\u001b[0m \u001b[32m20/27\u001b[0m [azure-mgmt-storage]\n\u001b[2K    Found existing installation: azure-mgmt-resource 24.0.0━━━\u001b[0m \u001b[32m20/27\u001b[0m [azure-mgmt-storage]\n\u001b[2K    Uninstalling azure-mgmt-resource-24.0.0:[90m╺\u001b[0m\u001b[90m━━━━━━━━\u001b[0m \u001b[32m21/27\u001b[0m [azure-mgmt-resource]\n\u001b[2K      Successfully uninstalled azure-mgmt-resource-24.0.0━━━━━\u001b[0m \u001b[32m21/27\u001b[0m [azure-mgmt-resource]\n\u001b[2K  Attempting uninstall: azure-mgmt-keyvault\u001b[90m╺\u001b[0m\u001b[90m━━━━━━━━\u001b[0m \u001b[32m21/27\u001b[0m [azure-mgmt-resource]\n\u001b[2K    Found existing installation: azure-mgmt-keyvault 11.0.0━━━\u001b[0m \u001b[32m21/27\u001b[0m [azure-mgmt-resource]\n\u001b[2K    Uninstalling azure-mgmt-keyvault-11.0.0:\u001b[91m╸\u001b[0m\u001b[90m━━━━━━━\u001b[0m \u001b[32m22/27\u001b[0m [azure-mgmt-keyvault]\n\u001b[2K      Successfully uninstalled azure-mgmt-keyvault-11.0.0━━━━━\u001b[0m \u001b[32m22/27\u001b[0m [azure-mgmt-keyvault]\n\u001b[2K  Attempting uninstall: azure-mgmt-containerregistry0m\u001b[90m━━━━━━━\u001b[0m \u001b[32m22/27\u001b[0m [azure-mgmt-keyvault]\n\u001b[2K    Found existing installation: azure-mgmt-containerregistry 13.0.0[32m22/27\u001b[0m [azure-mgmt-keyvault]\n\u001b[2K    Uninstalling azure-mgmt-containerregistry-13.0.0:[0m\u001b[90m━━━━━\u001b[0m \u001b[32m23/27\u001b[0m [azure-mgmt-containerregistry]\n\u001b[2K      Successfully uninstalled azure-mgmt-containerregistry-13.0.0 \u001b[32m23/27\u001b[0m [azure-mgmt-containerregistry]\n\u001b[2K  Attempting uninstall: azure-mgmt-authorization90m╺\u001b[0m\u001b[90m━━━━━\u001b[0m \u001b[32m23/27\u001b[0m [azure-mgmt-containerregistry]\n\u001b[2K    Found existing installation: azure-mgmt-authorization 4.0.0[0m \u001b[32m23/27\u001b[0m [azure-mgmt-containerregistry]\n\u001b[2K    Uninstalling azure-mgmt-authorization-4.0.0:[91m╸\u001b[0m\u001b[90m━━━━\u001b[0m \u001b[32m24/27\u001b[0m [azure-mgmt-authorization]\n\u001b[2K      Successfully uninstalled azure-mgmt-authorization-4.0.0━\u001b[0m \u001b[32m24/27\u001b[0m [azure-mgmt-authorization]\n\u001b[2K  Attempting uninstall: azureml-core━━━━━━━\u001b[0m\u001b[91m╸\u001b[0m\u001b[90m━━━━\u001b[0m \u001b[32m24/27\u001b[0m [azure-mgmt-authorization]\n\u001b[2K    Found existing installation: azureml-core 1.60.0.post1━━━━\u001b[0m \u001b[32m24/27\u001b[0m [azure-mgmt-authorization]\n\u001b[2K    Uninstalling azureml-core-1.60.0.post1:━━\u001b[0m\u001b[90m╺\u001b[0m\u001b[90m━━\u001b[0m \u001b[32m25/27\u001b[0m [azureml-core]ization]\n\u001b[2K      Successfully uninstalled azureml-core-1.60.0.post1[0m\u001b[90m━━\u001b[0m \u001b[32m25/27\u001b[0m [azureml-core]\n\u001b[2K  Attempting uninstall: azureml-mlflow━━━━━━━\u001b[0m\u001b[90m╺\u001b[0m\u001b[90m━━\u001b[0m \u001b[32m25/27\u001b[0m [azureml-core]\n\u001b[2K    Found existing installation: azureml-mlflow 1.60.0.post1━━\u001b[0m \u001b[32m25/27\u001b[0m [azureml-core]\n\u001b[2K    Uninstalling azureml-mlflow-1.60.0.post1:━\u001b[0m\u001b[91m╸\u001b[0m\u001b[90m━\u001b[0m \u001b[32m26/27\u001b[0m [azureml-mlflow]\n\u001b[2K      Successfully uninstalled azureml-mlflow-1.60.0.post190m━\u001b[0m \u001b[32m26/27\u001b[0m [azureml-mlflow]\n\u001b[2K   \u001b[90m━━━━━━━━━━━━━━━━━━━━━━━━━━━━━━━━━━━━━━━━\u001b[0m \u001b[32m27/27\u001b[0m [azureml-mlflow]zureml-mlflow]\n\u001b[1A\u001b[2K\u001b[31mERROR: pip's dependency resolver does not currently take into account all the packages that are installed. This behaviour is the source of the following dependency conflicts.\nazure-identity 1.23.0 requires msal-extensions>=1.2.0, but you have msal-extensions 0.3.1 which is incompatible.\nscikit-image 0.25.2 requires numpy>=1.24, but you have numpy 1.23.5 which is incompatible.\u001b[0m\u001b[31m\n\u001b[0mSuccessfully installed argcomplete-2.1.2 azure-mgmt-authorization-2.0.0 azure-mgmt-containerregistry-9.1.0 azure-mgmt-keyvault-9.3.0 azure-mgmt-resource-20.1.0 azure-mgmt-storage-19.1.0 azureml-core-1.41.0.post1 azureml-mlflow-1.41.0.post1 cryptography-36.0.2 docker-5.0.3 fredapi-0.5.2 importlib_metadata-8.6.1 jmespath-0.10.0 jsonpickle-2.2.0 knack-0.9.0 mlflow-skinny-3.1.1 msal-extensions-0.3.1 msrestazure-0.6.4 opentelemetry-api-1.31.1 packaging-21.3 paramiko-2.12.0 portalocker-2.10.1 pyodbc-5.2.0 pyopenssl-22.0.0 python-dotenv-1.1.1 urllib3-1.26.7 websocket-client-1.8.0\n\n\u001b[1m[\u001b[0m\u001b[34;49mnotice\u001b[0m\u001b[1;39;49m]\u001b[0m\u001b[39;49m A new release of pip is available: \u001b[0m\u001b[31;49m25.1.1\u001b[0m\u001b[39;49m -> \u001b[0m\u001b[32;49m25.2\u001b[0m\n\u001b[1m[\u001b[0m\u001b[34;49mnotice\u001b[0m\u001b[1;39;49m]\u001b[0m\u001b[39;49m To update, run: \u001b[0m\u001b[32;49m/anaconda/envs/azureml_py310_sdkv2/bin/python -m pip install --upgrade pip\u001b[0m\nNote: you may need to restart the kernel to use updated packages.\n"
        }
      ],
      "execution_count": 1,
      "metadata": {}
    },
    {
      "cell_type": "code",
      "source": [
        "import os\n",
        "import pandas as pd\n",
        "from sqlalchemy import create_engine, text\n",
        "from dotenv import load_dotenv\n",
        "\n",
        "# Load environment variables from .env file\n",
        "# Note: Ensure your .env file is in the root of your user folder in Azure ML\n",
        "load_dotenv()\n",
        "\n",
        "SYNAPSE_CONN_STRING = os.getenv(\"SYNAPSE_CONN_STRING\")\n",
        "\n",
        "# Verify that the connection string was loaded\n",
        "if not SYNAPSE_CONN_STRING:\n",
        "    raise ValueError(\"SYNAPSE_CONN_STRING environment variable not found. Please check your .env file.\")"
      ],
      "outputs": [],
      "execution_count": 1,
      "metadata": {
        "gather": {
          "logged": 1759681522553
        }
      }
    },
    {
      "cell_type": "code",
      "source": [
        "engine = create_engine(SYNAPSE_CONN_STRING, connect_args={'timeout': 60})\n",
        "\n",
        "query = \"SELECT * FROM v_financials_quarterly\"\n",
        "\n",
        "with engine.connect() as connection:\n",
        "    df = pd.read_sql_query(text(query), connection)\n",
        "\n",
        "print(\"Data loaded successfully.\")\n",
        "df.info()"
      ],
      "outputs": [
        {
          "output_type": "stream",
          "name": "stdout",
          "text": "Data loaded successfully.\n<class 'pandas.core.frame.DataFrame'>\nRangeIndex: 243 entries, 0 to 242\nData columns (total 12 columns):\n #   Column                                      Non-Null Count  Dtype  \n---  ------                                      --------------  -----  \n 0   prediction_quarter                          243 non-null    object \n 1   ticker                                      243 non-null    object \n 2   report_date                                 243 non-null    object \n 3   revenues                                    243 non-null    int64  \n 4   research_and_development_expense            243 non-null    int64  \n 5   selling_general_and_administrative_expense  243 non-null    int64  \n 6   net_income                                  243 non-null    int64  \n 7   assets                                      243 non-null    int64  \n 8   liabilities                                 243 non-null    int64  \n 9   gdp                                         243 non-null    float64\n 10  cpi                                         243 non-null    float64\n 11  unemployment                                243 non-null    float64\ndtypes: float64(3), int64(6), object(3)\nmemory usage: 22.9+ KB\n"
        }
      ],
      "execution_count": 2,
      "metadata": {
        "gather": {
          "logged": 1759681525519
        }
      }
    },
    {
      "cell_type": "markdown",
      "source": [
        "It is observed that prediction quarter and report_date are objects that need to be converted to dateTime and ticker is also object that needs to be converted to string maybe in future."
      ],
      "metadata": {
        "nteract": {
          "transient": {
            "deleting": false
          }
        }
      }
    },
    {
      "cell_type": "code",
      "source": [
        "df['prediction_quarter']=pd.to_datetime(df['prediction_quarter'])\n",
        "df['report_date']=pd.to_datetime(df['report_date'])"
      ],
      "outputs": [],
      "execution_count": 3,
      "metadata": {
        "gather": {
          "logged": 1759681528108
        }
      }
    },
    {
      "cell_type": "code",
      "source": [
        "df.describe().T"
      ],
      "outputs": [
        {
          "output_type": "execute_result",
          "execution_count": 4,
          "data": {
            "text/plain": "                                            count          mean           std  \\\nrevenues                                    243.0  3.681009e+10  2.927646e+10   \nresearch_and_development_expense            243.0  3.678233e+09  3.070424e+09   \nselling_general_and_administrative_expense  243.0  2.129588e+09  1.697939e+09   \nnet_income                                  243.0  9.393598e+09  8.358866e+09   \nassets                                      243.0  2.035112e+11  1.400548e+11   \nliabilities                                 243.0  1.008991e+11  9.131486e+10   \ngdp                                         243.0  1.931270e+04  4.920852e+03   \ncpi                                         243.0  2.448372e+02  3.381961e+01   \nunemployment                                243.0  5.783128e+00  2.127740e+00   \n\n                                                     min           25%  \\\nrevenues                                    1.384495e+09  1.343500e+10   \nresearch_and_development_expense            9.577200e+07  1.367000e+09   \nselling_general_and_administrative_expense  1.048510e+08  1.007500e+09   \nnet_income                                 -6.302000e+09  3.059500e+09   \nassets                                      4.497718e+09  7.113850e+10   \nliabilities                                 5.438610e+08  2.539850e+10   \ngdp                                         1.292266e+04  1.498019e+04   \ncpi                                         1.936667e+02  2.179343e+02   \nunemployment                                3.533333e+00  4.133333e+00   \n\n                                                     50%           75%  \\\nrevenues                                    2.647000e+10  5.575150e+10   \nresearch_and_development_expense            2.783000e+09  5.430500e+09   \nselling_general_and_administrative_expense  1.425000e+09  2.979000e+09   \nnet_income                                  6.558000e+09  1.443050e+10   \nassets                                      1.800980e+11  3.315535e+11   \nliabilities                                 6.490900e+10  1.741375e+11   \ngdp                                         1.827978e+04  2.175124e+04   \ncpi                                         2.374783e+02  2.588177e+02   \nunemployment                                4.966667e+00  7.233333e+00   \n\n                                                     max  \nrevenues                                    1.243000e+11  \nresearch_and_development_expense            1.380800e+10  \nselling_general_and_administrative_expense  7.175000e+09  \nnet_income                                  3.633000e+10  \nassets                                      6.190030e+11  \nliabilities                                 3.092590e+11  \ngdp                                         3.048573e+04  \ncpi                                         3.208003e+02  \nunemployment                                1.300000e+01  ",
            "text/html": "<div>\n<style scoped>\n    .dataframe tbody tr th:only-of-type {\n        vertical-align: middle;\n    }\n\n    .dataframe tbody tr th {\n        vertical-align: top;\n    }\n\n    .dataframe thead th {\n        text-align: right;\n    }\n</style>\n<table border=\"1\" class=\"dataframe\">\n  <thead>\n    <tr style=\"text-align: right;\">\n      <th></th>\n      <th>count</th>\n      <th>mean</th>\n      <th>std</th>\n      <th>min</th>\n      <th>25%</th>\n      <th>50%</th>\n      <th>75%</th>\n      <th>max</th>\n    </tr>\n  </thead>\n  <tbody>\n    <tr>\n      <th>revenues</th>\n      <td>243.0</td>\n      <td>3.681009e+10</td>\n      <td>2.927646e+10</td>\n      <td>1.384495e+09</td>\n      <td>1.343500e+10</td>\n      <td>2.647000e+10</td>\n      <td>5.575150e+10</td>\n      <td>1.243000e+11</td>\n    </tr>\n    <tr>\n      <th>research_and_development_expense</th>\n      <td>243.0</td>\n      <td>3.678233e+09</td>\n      <td>3.070424e+09</td>\n      <td>9.577200e+07</td>\n      <td>1.367000e+09</td>\n      <td>2.783000e+09</td>\n      <td>5.430500e+09</td>\n      <td>1.380800e+10</td>\n    </tr>\n    <tr>\n      <th>selling_general_and_administrative_expense</th>\n      <td>243.0</td>\n      <td>2.129588e+09</td>\n      <td>1.697939e+09</td>\n      <td>1.048510e+08</td>\n      <td>1.007500e+09</td>\n      <td>1.425000e+09</td>\n      <td>2.979000e+09</td>\n      <td>7.175000e+09</td>\n    </tr>\n    <tr>\n      <th>net_income</th>\n      <td>243.0</td>\n      <td>9.393598e+09</td>\n      <td>8.358866e+09</td>\n      <td>-6.302000e+09</td>\n      <td>3.059500e+09</td>\n      <td>6.558000e+09</td>\n      <td>1.443050e+10</td>\n      <td>3.633000e+10</td>\n    </tr>\n    <tr>\n      <th>assets</th>\n      <td>243.0</td>\n      <td>2.035112e+11</td>\n      <td>1.400548e+11</td>\n      <td>4.497718e+09</td>\n      <td>7.113850e+10</td>\n      <td>1.800980e+11</td>\n      <td>3.315535e+11</td>\n      <td>6.190030e+11</td>\n    </tr>\n    <tr>\n      <th>liabilities</th>\n      <td>243.0</td>\n      <td>1.008991e+11</td>\n      <td>9.131486e+10</td>\n      <td>5.438610e+08</td>\n      <td>2.539850e+10</td>\n      <td>6.490900e+10</td>\n      <td>1.741375e+11</td>\n      <td>3.092590e+11</td>\n    </tr>\n    <tr>\n      <th>gdp</th>\n      <td>243.0</td>\n      <td>1.931270e+04</td>\n      <td>4.920852e+03</td>\n      <td>1.292266e+04</td>\n      <td>1.498019e+04</td>\n      <td>1.827978e+04</td>\n      <td>2.175124e+04</td>\n      <td>3.048573e+04</td>\n    </tr>\n    <tr>\n      <th>cpi</th>\n      <td>243.0</td>\n      <td>2.448372e+02</td>\n      <td>3.381961e+01</td>\n      <td>1.936667e+02</td>\n      <td>2.179343e+02</td>\n      <td>2.374783e+02</td>\n      <td>2.588177e+02</td>\n      <td>3.208003e+02</td>\n    </tr>\n    <tr>\n      <th>unemployment</th>\n      <td>243.0</td>\n      <td>5.783128e+00</td>\n      <td>2.127740e+00</td>\n      <td>3.533333e+00</td>\n      <td>4.133333e+00</td>\n      <td>4.966667e+00</td>\n      <td>7.233333e+00</td>\n      <td>1.300000e+01</td>\n    </tr>\n  </tbody>\n</table>\n</div>"
          },
          "metadata": {}
        }
      ],
      "execution_count": 4,
      "metadata": {
        "gather": {
          "logged": 1759681529575
        }
      }
    },
    {
      "cell_type": "code",
      "source": [
        "df.head()"
      ],
      "outputs": [
        {
          "output_type": "execute_result",
          "execution_count": 5,
          "data": {
            "text/plain": "  prediction_quarter ticker report_date      revenues  \\\n0         2025-07-01   AAPL  2025-06-30   94036000000   \n1         2025-04-01   AAPL  2025-03-31   95359000000   \n2         2025-01-01   AAPL  2024-12-31  124300000000   \n3         2024-10-01   AAPL  2024-09-30   94930000000   \n4         2024-07-01   AAPL  2024-06-30   85777000000   \n\n   research_and_development_expense  \\\n0                        8866000000   \n1                        8550000000   \n2                        8268000000   \n3                        7765000000   \n4                        8006000000   \n\n   selling_general_and_administrative_expense   net_income        assets  \\\n0                                  6650000000  23434000000  331495000000   \n1                                  6728000000  24780000000  331233000000   \n2                                  7175000000  36330000000  344085000000   \n3                                  6523000000  14736000000  364980000000   \n4                                  6320000000  21448000000  331612000000   \n\n    liabilities        gdp         cpi  unemployment  \n0  265665000000  30485.729  320.800333      4.166667  \n1  264437000000  30042.113  319.492000      4.100000  \n2  277327000000  29825.182  316.538667      4.133333  \n3  308030000000  29511.664  314.182667      4.166667  \n4  264904000000  29147.044  313.095667      4.000000  ",
            "text/html": "<div>\n<style scoped>\n    .dataframe tbody tr th:only-of-type {\n        vertical-align: middle;\n    }\n\n    .dataframe tbody tr th {\n        vertical-align: top;\n    }\n\n    .dataframe thead th {\n        text-align: right;\n    }\n</style>\n<table border=\"1\" class=\"dataframe\">\n  <thead>\n    <tr style=\"text-align: right;\">\n      <th></th>\n      <th>prediction_quarter</th>\n      <th>ticker</th>\n      <th>report_date</th>\n      <th>revenues</th>\n      <th>research_and_development_expense</th>\n      <th>selling_general_and_administrative_expense</th>\n      <th>net_income</th>\n      <th>assets</th>\n      <th>liabilities</th>\n      <th>gdp</th>\n      <th>cpi</th>\n      <th>unemployment</th>\n    </tr>\n  </thead>\n  <tbody>\n    <tr>\n      <th>0</th>\n      <td>2025-07-01</td>\n      <td>AAPL</td>\n      <td>2025-06-30</td>\n      <td>94036000000</td>\n      <td>8866000000</td>\n      <td>6650000000</td>\n      <td>23434000000</td>\n      <td>331495000000</td>\n      <td>265665000000</td>\n      <td>30485.729</td>\n      <td>320.800333</td>\n      <td>4.166667</td>\n    </tr>\n    <tr>\n      <th>1</th>\n      <td>2025-04-01</td>\n      <td>AAPL</td>\n      <td>2025-03-31</td>\n      <td>95359000000</td>\n      <td>8550000000</td>\n      <td>6728000000</td>\n      <td>24780000000</td>\n      <td>331233000000</td>\n      <td>264437000000</td>\n      <td>30042.113</td>\n      <td>319.492000</td>\n      <td>4.100000</td>\n    </tr>\n    <tr>\n      <th>2</th>\n      <td>2025-01-01</td>\n      <td>AAPL</td>\n      <td>2024-12-31</td>\n      <td>124300000000</td>\n      <td>8268000000</td>\n      <td>7175000000</td>\n      <td>36330000000</td>\n      <td>344085000000</td>\n      <td>277327000000</td>\n      <td>29825.182</td>\n      <td>316.538667</td>\n      <td>4.133333</td>\n    </tr>\n    <tr>\n      <th>3</th>\n      <td>2024-10-01</td>\n      <td>AAPL</td>\n      <td>2024-09-30</td>\n      <td>94930000000</td>\n      <td>7765000000</td>\n      <td>6523000000</td>\n      <td>14736000000</td>\n      <td>364980000000</td>\n      <td>308030000000</td>\n      <td>29511.664</td>\n      <td>314.182667</td>\n      <td>4.166667</td>\n    </tr>\n    <tr>\n      <th>4</th>\n      <td>2024-07-01</td>\n      <td>AAPL</td>\n      <td>2024-06-30</td>\n      <td>85777000000</td>\n      <td>8006000000</td>\n      <td>6320000000</td>\n      <td>21448000000</td>\n      <td>331612000000</td>\n      <td>264904000000</td>\n      <td>29147.044</td>\n      <td>313.095667</td>\n      <td>4.000000</td>\n    </tr>\n  </tbody>\n</table>\n</div>"
          },
          "metadata": {}
        }
      ],
      "execution_count": 5,
      "metadata": {
        "gather": {
          "logged": 1759681531099
        }
      }
    },
    {
      "cell_type": "code",
      "source": [
        "# CRITICAL: Sort the data by company and then by date.\n",
        "# This is essential for all time-series operations.\n",
        "df.sort_values(by=['ticker', 'prediction_quarter'], inplace=True)\n",
        "df.reset_index(drop=True, inplace=True)\n",
        "\n",
        "print(\"Data sorted and prepared.\")\n",
        "df.head()"
      ],
      "outputs": [
        {
          "output_type": "stream",
          "name": "stdout",
          "text": "Data sorted and prepared.\n"
        },
        {
          "output_type": "execute_result",
          "execution_count": 6,
          "data": {
            "text/plain": "  prediction_quarter ticker report_date    revenues  \\\n0         2005-07-01   AAPL  2005-06-30  3520000000   \n1         2005-10-01   AAPL  2005-09-30  3678000000   \n2         2006-01-01   AAPL  2005-12-31  5749000000   \n3         2006-04-01   AAPL  2006-03-31  4359000000   \n4         2006-07-01   AAPL  2006-06-30  4370000000   \n\n   research_and_development_expense  \\\n0                         145000000   \n1                         147000000   \n2                         182000000   \n3                         176000000   \n4                         175000000   \n\n   selling_general_and_administrative_expense  net_income       assets  \\\n0                                   472000000   319000000  10488000000   \n1                                   470000000   430000000  11551000000   \n2                                   632000000   565000000  14181000000   \n3                                   592000000   410000000  13911000000   \n4                                   584000000   472000000  15114000000   \n\n   liabilities        gdp         cpi  unemployment  \n0   3667000000  12922.656  193.666667      5.100000  \n1   4085000000  13142.642  196.600000      4.966667  \n2   5801000000  13324.204  198.433333      4.966667  \n3   5229000000  13599.160  199.466667      4.733333  \n4   5784000000  13753.424  201.266667      4.633333  ",
            "text/html": "<div>\n<style scoped>\n    .dataframe tbody tr th:only-of-type {\n        vertical-align: middle;\n    }\n\n    .dataframe tbody tr th {\n        vertical-align: top;\n    }\n\n    .dataframe thead th {\n        text-align: right;\n    }\n</style>\n<table border=\"1\" class=\"dataframe\">\n  <thead>\n    <tr style=\"text-align: right;\">\n      <th></th>\n      <th>prediction_quarter</th>\n      <th>ticker</th>\n      <th>report_date</th>\n      <th>revenues</th>\n      <th>research_and_development_expense</th>\n      <th>selling_general_and_administrative_expense</th>\n      <th>net_income</th>\n      <th>assets</th>\n      <th>liabilities</th>\n      <th>gdp</th>\n      <th>cpi</th>\n      <th>unemployment</th>\n    </tr>\n  </thead>\n  <tbody>\n    <tr>\n      <th>0</th>\n      <td>2005-07-01</td>\n      <td>AAPL</td>\n      <td>2005-06-30</td>\n      <td>3520000000</td>\n      <td>145000000</td>\n      <td>472000000</td>\n      <td>319000000</td>\n      <td>10488000000</td>\n      <td>3667000000</td>\n      <td>12922.656</td>\n      <td>193.666667</td>\n      <td>5.100000</td>\n    </tr>\n    <tr>\n      <th>1</th>\n      <td>2005-10-01</td>\n      <td>AAPL</td>\n      <td>2005-09-30</td>\n      <td>3678000000</td>\n      <td>147000000</td>\n      <td>470000000</td>\n      <td>430000000</td>\n      <td>11551000000</td>\n      <td>4085000000</td>\n      <td>13142.642</td>\n      <td>196.600000</td>\n      <td>4.966667</td>\n    </tr>\n    <tr>\n      <th>2</th>\n      <td>2006-01-01</td>\n      <td>AAPL</td>\n      <td>2005-12-31</td>\n      <td>5749000000</td>\n      <td>182000000</td>\n      <td>632000000</td>\n      <td>565000000</td>\n      <td>14181000000</td>\n      <td>5801000000</td>\n      <td>13324.204</td>\n      <td>198.433333</td>\n      <td>4.966667</td>\n    </tr>\n    <tr>\n      <th>3</th>\n      <td>2006-04-01</td>\n      <td>AAPL</td>\n      <td>2006-03-31</td>\n      <td>4359000000</td>\n      <td>176000000</td>\n      <td>592000000</td>\n      <td>410000000</td>\n      <td>13911000000</td>\n      <td>5229000000</td>\n      <td>13599.160</td>\n      <td>199.466667</td>\n      <td>4.733333</td>\n    </tr>\n    <tr>\n      <th>4</th>\n      <td>2006-07-01</td>\n      <td>AAPL</td>\n      <td>2006-06-30</td>\n      <td>4370000000</td>\n      <td>175000000</td>\n      <td>584000000</td>\n      <td>472000000</td>\n      <td>15114000000</td>\n      <td>5784000000</td>\n      <td>13753.424</td>\n      <td>201.266667</td>\n      <td>4.633333</td>\n    </tr>\n  </tbody>\n</table>\n</div>"
          },
          "metadata": {}
        }
      ],
      "execution_count": 6,
      "metadata": {
        "gather": {
          "logged": 1759681532822
        }
      }
    },
    {
      "cell_type": "code",
      "source": [
        "# --- Create Shareholder's Equity ---\n",
        "df['shareholder_equity'] = df['assets'] - df['liabilities']\n",
        "\n",
        "# --- Create the Target Variable (y) ---\n",
        "df['target_revenue_next_q'] = df.groupby('ticker')['revenues'].shift(-1)\n",
        "\n",
        "# --- Create Time-Based Features (X) ---\n",
        "df['prediction_quarter'] = pd.to_datetime(df['prediction_quarter']) # Ensure datetime type before using .dt\n",
        "df['quarter'] = df['prediction_quarter'].dt.quarter\n",
        "df['year'] = df['prediction_quarter'].dt.year\n",
        "\n",
        "# --- Create Lag and Rolling Features (X) ---\n",
        "features_to_engineer = {\n",
        "    'revenues': {'lags': [1, 2, 3, 4], 'rolling_avg': [4]},\n",
        "    'net_income': {'lags': [2, 3, 4], 'rolling_avg': [4]},\n",
        "    'research_and_development_expense': {'lags': [4, 5, 6, 7, 8]},\n",
        "    'selling_general_and_administrative_expense': {'lags': [1, 2], 'rolling_avg': [4]},\n",
        "    'assets': {'lags': [2, 3, 4]},\n",
        "    'liabilities': {'lags': [2, 3, 4]},\n",
        "    'shareholder_equity': {'lags': [2, 3, 4]},\n",
        "    'gdp': {'lags': [1, 2]},\n",
        "    'cpi': {'lags': [1]},\n",
        "    'unemployment': {'lags': [1, 2]}\n",
        "}\n",
        "\n",
        "for col, params in features_to_engineer.items():\n",
        "    if 'lags' in params:\n",
        "        for lag in params['lags']:\n",
        "            df[f'{col}_lag_{lag}'] = df.groupby('ticker')[col].shift(lag)\n",
        "    if 'rolling_avg' in params:\n",
        "        for window in params['rolling_avg']:\n",
        "            # ✅ --- FIX: Use .transform() for a robust, guaranteed alignment ---\n",
        "            df[f'{col}_rolling_avg_{window}'] = df.groupby('ticker')[col].transform(\n",
        "                lambda x: x.rolling(window=window).mean()\n",
        "            )\n",
        "\n",
        "df['revenue_seasonal_diff'] = df['revenues'] - df['revenues_rolling_avg_4']\n",
        "\n",
        "print(\"Robust feature engineering complete.\")"
      ],
      "outputs": [
        {
          "output_type": "stream",
          "name": "stdout",
          "text": "Robust feature engineering complete.\n"
        }
      ],
      "execution_count": 7,
      "metadata": {
        "gather": {
          "logged": 1759681536871
        }
      }
    },
    {
      "cell_type": "code",
      "source": [
        "df.info()"
      ],
      "outputs": [
        {
          "output_type": "stream",
          "name": "stdout",
          "text": "<class 'pandas.core.frame.DataFrame'>\nRangeIndex: 243 entries, 0 to 242\nData columns (total 48 columns):\n #   Column                                                    Non-Null Count  Dtype         \n---  ------                                                    --------------  -----         \n 0   prediction_quarter                                        243 non-null    datetime64[ns]\n 1   ticker                                                    243 non-null    object        \n 2   report_date                                               243 non-null    datetime64[ns]\n 3   revenues                                                  243 non-null    int64         \n 4   research_and_development_expense                          243 non-null    int64         \n 5   selling_general_and_administrative_expense                243 non-null    int64         \n 6   net_income                                                243 non-null    int64         \n 7   assets                                                    243 non-null    int64         \n 8   liabilities                                               243 non-null    int64         \n 9   gdp                                                       243 non-null    float64       \n 10  cpi                                                       243 non-null    float64       \n 11  unemployment                                              243 non-null    float64       \n 12  shareholder_equity                                        243 non-null    int64         \n 13  target_revenue_next_q                                     240 non-null    float64       \n 14  quarter                                                   243 non-null    int64         \n 15  year                                                      243 non-null    int64         \n 16  revenues_lag_1                                            240 non-null    float64       \n 17  revenues_lag_2                                            237 non-null    float64       \n 18  revenues_lag_3                                            234 non-null    float64       \n 19  revenues_lag_4                                            231 non-null    float64       \n 20  revenues_rolling_avg_4                                    234 non-null    float64       \n 21  net_income_lag_2                                          237 non-null    float64       \n 22  net_income_lag_3                                          234 non-null    float64       \n 23  net_income_lag_4                                          231 non-null    float64       \n 24  net_income_rolling_avg_4                                  234 non-null    float64       \n 25  research_and_development_expense_lag_4                    231 non-null    float64       \n 26  research_and_development_expense_lag_5                    228 non-null    float64       \n 27  research_and_development_expense_lag_6                    225 non-null    float64       \n 28  research_and_development_expense_lag_7                    222 non-null    float64       \n 29  research_and_development_expense_lag_8                    219 non-null    float64       \n 30  selling_general_and_administrative_expense_lag_1          240 non-null    float64       \n 31  selling_general_and_administrative_expense_lag_2          237 non-null    float64       \n 32  selling_general_and_administrative_expense_rolling_avg_4  234 non-null    float64       \n 33  assets_lag_2                                              237 non-null    float64       \n 34  assets_lag_3                                              234 non-null    float64       \n 35  assets_lag_4                                              231 non-null    float64       \n 36  liabilities_lag_2                                         237 non-null    float64       \n 37  liabilities_lag_3                                         234 non-null    float64       \n 38  liabilities_lag_4                                         231 non-null    float64       \n 39  shareholder_equity_lag_2                                  237 non-null    float64       \n 40  shareholder_equity_lag_3                                  234 non-null    float64       \n 41  shareholder_equity_lag_4                                  231 non-null    float64       \n 42  gdp_lag_1                                                 240 non-null    float64       \n 43  gdp_lag_2                                                 237 non-null    float64       \n 44  cpi_lag_1                                                 240 non-null    float64       \n 45  unemployment_lag_1                                        240 non-null    float64       \n 46  unemployment_lag_2                                        237 non-null    float64       \n 47  revenue_seasonal_diff                                     234 non-null    float64       \ndtypes: datetime64[ns](2), float64(36), int64(9), object(1)\nmemory usage: 91.2+ KB\n"
        }
      ],
      "execution_count": 7,
      "metadata": {
        "gather": {
          "logged": 1759510317599
        },
        "jupyter": {
          "outputs_hidden": true
        }
      }
    },
    {
      "cell_type": "code",
      "source": [
        "# Drop rows with any NaN values created by the feature engineering\n",
        "df_model = df.dropna().copy()\n",
        "df_model.set_index('prediction_quarter', inplace=True)\n",
        "\n",
        "# --- Define X and y from the now-indexed DataFrame ---\n",
        "feature_cols = [c for c in df_model.columns if '_lag_' in c or '_rolling_avg_' in c or '_seasonal_diff_' in c]\n",
        "time_cols = ['year', 'quarter']\n",
        "X = df_model[feature_cols + time_cols].copy()\n",
        "\n",
        "# y is now a DataFrame containing the target and the ticker ---\n",
        "y = df_model[['target_revenue_next_q', 'ticker']]\n",
        "\n",
        "# Convert quarter to a categorical type for the model\n",
        "X['quarter'] = X['quarter'].astype('category')\n",
        "\n",
        "print(\"Final feature set (X) columns:\")\n",
        "print(X.columns)\n",
        "print(f\"\\nFinal shape of feature data (X): {X.shape}\")\n",
        "print(f\"Final shape of target data (y): {y.shape}\")"
      ],
      "outputs": [
        {
          "output_type": "stream",
          "name": "stdout",
          "text": "Final feature set (X) columns:\nIndex(['revenues_lag_1', 'revenues_lag_2', 'revenues_lag_3', 'revenues_lag_4',\n       'revenues_rolling_avg_4', 'net_income_lag_2', 'net_income_lag_3',\n       'net_income_lag_4', 'net_income_rolling_avg_4',\n       'research_and_development_expense_lag_4',\n       'research_and_development_expense_lag_5',\n       'research_and_development_expense_lag_6',\n       'research_and_development_expense_lag_7',\n       'research_and_development_expense_lag_8',\n       'selling_general_and_administrative_expense_lag_1',\n       'selling_general_and_administrative_expense_lag_2',\n       'selling_general_and_administrative_expense_rolling_avg_4',\n       'assets_lag_2', 'assets_lag_3', 'assets_lag_4', 'liabilities_lag_2',\n       'liabilities_lag_3', 'liabilities_lag_4', 'shareholder_equity_lag_2',\n       'shareholder_equity_lag_3', 'shareholder_equity_lag_4', 'gdp_lag_1',\n       'gdp_lag_2', 'cpi_lag_1', 'unemployment_lag_1', 'unemployment_lag_2',\n       'year', 'quarter'],\n      dtype='object')\n\nFinal shape of feature data (X): (216, 33)\nFinal shape of target data (y): (216, 2)\n"
        }
      ],
      "execution_count": 8,
      "metadata": {
        "gather": {
          "logged": 1759681540460
        }
      }
    },
    {
      "cell_type": "code",
      "source": [
        "# Define the time periods for our three datasets\n",
        "train_end_date = pd.to_datetime('2022-12-31')\n",
        "validation_end_date = pd.to_datetime('2023-12-31')\n",
        "\n",
        "# Create the training set (all data before 2023)\n",
        "X_train = X[X.index <= train_end_date]\n",
        "y_train = y[X.index <= train_end_date]\n",
        "\n",
        "# Create the validation set (all data in 2023)\n",
        "X_val = X[(X.index > train_end_date) & (X.index <= validation_end_date)]\n",
        "y_val = y[(X.index > train_end_date) & (X.index <= validation_end_date)]\n",
        "\n",
        "# Create the test set (all data from 2024 onwards)\n",
        "X_test = X[X.index > validation_end_date]\n",
        "y_test = y[X.index > validation_end_date]\n",
        "\n",
        "print(f\"Training set size: {len(X_train)}\")\n",
        "print(f\"Validation set size: {len(X_val)}\")\n",
        "print(f\"Test set size: {len(X_test)}\")"
      ],
      "outputs": [
        {
          "output_type": "stream",
          "name": "stdout",
          "text": "Training set size: 186\nValidation set size: 12\nTest set size: 18\n"
        }
      ],
      "execution_count": 9,
      "metadata": {
        "gather": {
          "logged": 1759681546462
        }
      }
    },
    {
      "cell_type": "code",
      "source": [
        "from sklearn.metrics import mean_absolute_error\n",
        "import xgboost as xgb\n",
        "import itertools\n",
        "\n",
        "# Define the Hyperparameter Grid\n",
        "param_grid = {\n",
        "    'n_estimators': [500, 1000],\n",
        "    'learning_rate': [0.05, 0.1],\n",
        "    'max_depth': [3, 5],\n",
        "    'subsample': [0.7, 1.0],\n",
        "}\n",
        "\n",
        "# Generate all combinations of parameters\n",
        "all_params = [dict(zip(param_grid.keys(), v)) for v in itertools.product(*param_grid.values())]\n",
        "\n",
        "best_score = float('inf')\n",
        "best_params = None\n",
        "\n",
        "print(f\"Starting hyperparameter search across {len(all_params)} combinations...\")\n",
        "\n",
        "for params in all_params:\n",
        "    model = xgb.XGBRegressor(objective='reg:squarederror', enable_categorical=True, random_state=42, **params)\n",
        "    \n",
        "    # ✅ --- FIX: Use the specific target column for fitting ---\n",
        "    model.fit(X_train, y_train['target_revenue_next_q'], verbose=False)\n",
        "    \n",
        "    val_preds = model.predict(X_val)\n",
        "    \n",
        "    # ✅ --- FIX: Use the specific target column for scoring ---\n",
        "    score = mean_absolute_error(y_val['target_revenue_next_q'], val_preds)\n",
        "    \n",
        "    if score < best_score:\n",
        "        best_score = score\n",
        "        best_params = params\n",
        "\n",
        "print(\"\\nHyperparameter tuning complete.\")\n",
        "print(f\"Best MAE on Validation Set: ${best_score:,.2f}\")\n",
        "print(\"Best hyperparameters found:\")\n",
        "print(best_params)"
      ],
      "outputs": [
        {
          "output_type": "stream",
          "name": "stdout",
          "text": "Starting hyperparameter search across 16 combinations...\n\nHyperparameter tuning complete.\nBest MAE on Validation Set: $4,061,859,877.33\nBest hyperparameters found:\n{'n_estimators': 500, 'learning_rate': 0.1, 'max_depth': 3, 'subsample': 0.7}\n"
        }
      ],
      "execution_count": 10,
      "metadata": {
        "gather": {
          "logged": 1759681563067
        }
      }
    },
    {
      "cell_type": "code",
      "source": [
        "# Combine the original training and validation sets for training the final model on all available data before the test set\n",
        "X_train_full = pd.concat([X_train, X_val])\n",
        "y_train_full = pd.concat([y_train, y_val])\n"
      ],
      "outputs": [],
      "execution_count": 11,
      "metadata": {
        "gather": {
          "logged": 1759681567408
        }
      }
    },
    {
      "cell_type": "code",
      "source": [
        "# 1. Define the quantiles for our interval\n",
        "lower_alpha = 0.1\n",
        "median_alpha = 0.5\n",
        "upper_alpha = 0.9\n",
        "\n",
        "# --- Train a separate model for each quantile ---\n",
        "\n",
        "model_lower = xgb.XGBRegressor(objective='reg:quantileerror', quantile_alpha=lower_alpha, enable_categorical=True, random_state=42, **best_params)\n",
        "model_median = xgb.XGBRegressor(objective='reg:quantileerror', quantile_alpha=median_alpha, enable_categorical=True, random_state=42, **best_params)\n",
        "model_upper = xgb.XGBRegressor(objective='reg:quantileerror', quantile_alpha=upper_alpha, enable_categorical=True, random_state=42, **best_params)\n",
        "\n",
        "print(\"Training 3 separate models for the prediction interval...\")\n",
        "model_lower.fit(X_train_full, y_train_full['target_revenue_next_q'])\n",
        "model_median.fit(X_train_full, y_train_full['target_revenue_next_q'])\n",
        "model_upper.fit(X_train_full, y_train_full['target_revenue_next_q'])\n",
        "\n",
        "# --- Generate the prediction interval on the test set ---\n",
        "\n",
        "lower_bound = model_lower.predict(X_test)\n",
        "median_pred = model_median.predict(X_test)\n",
        "upper_bound = model_upper.predict(X_test)\n",
        "\n",
        "# --- Create a DataFrame to show the raw results ---\n",
        "\n",
        "interval_results = pd.DataFrame({\n",
        "    'Ticker': y_test['ticker'],\n",
        "    'Actual_Revenue': y_test['target_revenue_next_q'],\n",
        "    'Raw_Lower_Bound': lower_bound,\n",
        "    'Raw_Prediction': median_pred,\n",
        "    'Raw_Upper_Bound': upper_bound\n",
        "}, index=y_test.index)\n",
        "\n",
        "# --- Enforce the logical order to prevent quantile crossing ---\n",
        "\n",
        "interval_results['Corrected_Lower_Bound'] = interval_results[['Raw_Lower_Bound', 'Raw_Prediction', 'Raw_Upper_Bound']].min(axis=1)\n",
        "interval_results['Corrected_Upper_Bound'] = interval_results[['Raw_Lower_Bound', 'Raw_Prediction', 'Raw_Upper_Bound']].max(axis=1)\n",
        "interval_results['Final_Prediction'] = interval_results['Raw_Prediction']\n",
        "\n",
        "# --- Display the final, corrected results ---\n",
        "\n",
        "# Select and reorder columns for a clean final view\n",
        "final_display = interval_results[[\n",
        "    'Ticker',\n",
        "    'Actual_Revenue', \n",
        "    'Corrected_Lower_Bound', \n",
        "    'Final_Prediction', \n",
        "    'Corrected_Upper_Bound'\n",
        "]]\n",
        "\n",
        "# ✅ --- FIX: Use the correct syntax to sort by column, then by index ---\n",
        "final_display = final_display.sort_values(by='Ticker').sort_index()\n",
        "\n",
        "pd.options.display.float_format = '${:,.2f}'.format\n",
        "print(\"\\nFinal, Corrected Prediction Interval Results:\")\n",
        "display(final_display)"
      ],
      "outputs": [
        {
          "output_type": "stream",
          "name": "stdout",
          "text": "Training 3 separate models for the prediction interval...\n\nFinal, Corrected Prediction Interval Results:\n"
        },
        {
          "output_type": "display_data",
          "data": {
            "text/plain": "                   Ticker      Actual_Revenue  Corrected_Lower_Bound  \\\nprediction_quarter                                                     \n2024-01-01           AAPL  $90,753,000,000.00     $71,455,866,880.00   \n2024-01-01           MSFT  $61,858,000,000.00     $61,654,548,480.00   \n2024-01-01          GOOGL  $80,539,000,000.00     $73,269,002,240.00   \n2024-04-01           AAPL  $85,777,000,000.00     $72,671,166,464.00   \n2024-04-01           MSFT  $64,727,000,000.00     $60,824,547,328.00   \n2024-04-01          GOOGL  $84,742,000,000.00     $74,159,136,768.00   \n2024-07-01           AAPL  $94,930,000,000.00     $68,181,692,416.00   \n2024-07-01           MSFT  $65,585,000,000.00     $60,347,969,536.00   \n2024-07-01          GOOGL  $88,268,000,000.00     $71,121,428,480.00   \n2024-10-01           MSFT  $69,632,000,000.00     $61,757,747,200.00   \n2024-10-01          GOOGL  $96,469,000,000.00     $73,044,361,216.00   \n2024-10-01           AAPL $124,300,000,000.00     $66,782,773,248.00   \n2025-01-01          GOOGL  $90,234,000,000.00     $74,262,962,176.00   \n2025-01-01           AAPL  $95,359,000,000.00     $72,133,672,960.00   \n2025-01-01           MSFT  $70,066,000,000.00     $59,733,090,304.00   \n2025-04-01          GOOGL  $96,428,000,000.00     $80,514,252,800.00   \n2025-04-01           AAPL  $94,036,000,000.00     $75,637,612,544.00   \n2025-04-01           MSFT  $76,441,000,000.00     $63,982,784,512.00   \n\n                      Final_Prediction  Corrected_Upper_Bound  \nprediction_quarter                                             \n2024-01-01         $105,416,228,864.00    $105,416,228,864.00  \n2024-01-01          $62,827,401,216.00     $62,827,401,216.00  \n2024-01-01          $76,510,314,496.00     $82,438,799,360.00  \n2024-04-01          $80,046,374,912.00     $83,774,087,168.00  \n2024-04-01          $60,824,547,328.00     $64,200,187,904.00  \n2024-04-01          $76,299,681,792.00     $79,457,681,408.00  \n2024-07-01          $88,014,585,856.00     $91,170,447,360.00  \n2024-07-01          $60,347,969,536.00     $65,855,942,656.00  \n2024-07-01          $83,732,430,848.00     $88,747,229,184.00  \n2024-10-01          $62,853,713,920.00     $75,512,692,736.00  \n2024-10-01          $85,039,882,240.00     $93,516,038,144.00  \n2024-10-01         $112,612,483,072.00    $112,612,483,072.00  \n2025-01-01          $80,557,719,552.00     $93,367,255,040.00  \n2025-01-01          $95,553,167,360.00     $95,553,167,360.00  \n2025-01-01          $59,733,090,304.00     $73,601,695,744.00  \n2025-04-01          $85,070,446,592.00     $88,478,498,816.00  \n2025-04-01          $84,372,856,832.00     $86,835,748,864.00  \n2025-04-01          $63,982,784,512.00     $71,287,398,400.00  ",
            "text/html": "<div>\n<style scoped>\n    .dataframe tbody tr th:only-of-type {\n        vertical-align: middle;\n    }\n\n    .dataframe tbody tr th {\n        vertical-align: top;\n    }\n\n    .dataframe thead th {\n        text-align: right;\n    }\n</style>\n<table border=\"1\" class=\"dataframe\">\n  <thead>\n    <tr style=\"text-align: right;\">\n      <th></th>\n      <th>Ticker</th>\n      <th>Actual_Revenue</th>\n      <th>Corrected_Lower_Bound</th>\n      <th>Final_Prediction</th>\n      <th>Corrected_Upper_Bound</th>\n    </tr>\n    <tr>\n      <th>prediction_quarter</th>\n      <th></th>\n      <th></th>\n      <th></th>\n      <th></th>\n      <th></th>\n    </tr>\n  </thead>\n  <tbody>\n    <tr>\n      <th>2024-01-01</th>\n      <td>AAPL</td>\n      <td>$90,753,000,000.00</td>\n      <td>$71,455,866,880.00</td>\n      <td>$105,416,228,864.00</td>\n      <td>$105,416,228,864.00</td>\n    </tr>\n    <tr>\n      <th>2024-01-01</th>\n      <td>MSFT</td>\n      <td>$61,858,000,000.00</td>\n      <td>$61,654,548,480.00</td>\n      <td>$62,827,401,216.00</td>\n      <td>$62,827,401,216.00</td>\n    </tr>\n    <tr>\n      <th>2024-01-01</th>\n      <td>GOOGL</td>\n      <td>$80,539,000,000.00</td>\n      <td>$73,269,002,240.00</td>\n      <td>$76,510,314,496.00</td>\n      <td>$82,438,799,360.00</td>\n    </tr>\n    <tr>\n      <th>2024-04-01</th>\n      <td>AAPL</td>\n      <td>$85,777,000,000.00</td>\n      <td>$72,671,166,464.00</td>\n      <td>$80,046,374,912.00</td>\n      <td>$83,774,087,168.00</td>\n    </tr>\n    <tr>\n      <th>2024-04-01</th>\n      <td>MSFT</td>\n      <td>$64,727,000,000.00</td>\n      <td>$60,824,547,328.00</td>\n      <td>$60,824,547,328.00</td>\n      <td>$64,200,187,904.00</td>\n    </tr>\n    <tr>\n      <th>2024-04-01</th>\n      <td>GOOGL</td>\n      <td>$84,742,000,000.00</td>\n      <td>$74,159,136,768.00</td>\n      <td>$76,299,681,792.00</td>\n      <td>$79,457,681,408.00</td>\n    </tr>\n    <tr>\n      <th>2024-07-01</th>\n      <td>AAPL</td>\n      <td>$94,930,000,000.00</td>\n      <td>$68,181,692,416.00</td>\n      <td>$88,014,585,856.00</td>\n      <td>$91,170,447,360.00</td>\n    </tr>\n    <tr>\n      <th>2024-07-01</th>\n      <td>MSFT</td>\n      <td>$65,585,000,000.00</td>\n      <td>$60,347,969,536.00</td>\n      <td>$60,347,969,536.00</td>\n      <td>$65,855,942,656.00</td>\n    </tr>\n    <tr>\n      <th>2024-07-01</th>\n      <td>GOOGL</td>\n      <td>$88,268,000,000.00</td>\n      <td>$71,121,428,480.00</td>\n      <td>$83,732,430,848.00</td>\n      <td>$88,747,229,184.00</td>\n    </tr>\n    <tr>\n      <th>2024-10-01</th>\n      <td>MSFT</td>\n      <td>$69,632,000,000.00</td>\n      <td>$61,757,747,200.00</td>\n      <td>$62,853,713,920.00</td>\n      <td>$75,512,692,736.00</td>\n    </tr>\n    <tr>\n      <th>2024-10-01</th>\n      <td>GOOGL</td>\n      <td>$96,469,000,000.00</td>\n      <td>$73,044,361,216.00</td>\n      <td>$85,039,882,240.00</td>\n      <td>$93,516,038,144.00</td>\n    </tr>\n    <tr>\n      <th>2024-10-01</th>\n      <td>AAPL</td>\n      <td>$124,300,000,000.00</td>\n      <td>$66,782,773,248.00</td>\n      <td>$112,612,483,072.00</td>\n      <td>$112,612,483,072.00</td>\n    </tr>\n    <tr>\n      <th>2025-01-01</th>\n      <td>GOOGL</td>\n      <td>$90,234,000,000.00</td>\n      <td>$74,262,962,176.00</td>\n      <td>$80,557,719,552.00</td>\n      <td>$93,367,255,040.00</td>\n    </tr>\n    <tr>\n      <th>2025-01-01</th>\n      <td>AAPL</td>\n      <td>$95,359,000,000.00</td>\n      <td>$72,133,672,960.00</td>\n      <td>$95,553,167,360.00</td>\n      <td>$95,553,167,360.00</td>\n    </tr>\n    <tr>\n      <th>2025-01-01</th>\n      <td>MSFT</td>\n      <td>$70,066,000,000.00</td>\n      <td>$59,733,090,304.00</td>\n      <td>$59,733,090,304.00</td>\n      <td>$73,601,695,744.00</td>\n    </tr>\n    <tr>\n      <th>2025-04-01</th>\n      <td>GOOGL</td>\n      <td>$96,428,000,000.00</td>\n      <td>$80,514,252,800.00</td>\n      <td>$85,070,446,592.00</td>\n      <td>$88,478,498,816.00</td>\n    </tr>\n    <tr>\n      <th>2025-04-01</th>\n      <td>AAPL</td>\n      <td>$94,036,000,000.00</td>\n      <td>$75,637,612,544.00</td>\n      <td>$84,372,856,832.00</td>\n      <td>$86,835,748,864.00</td>\n    </tr>\n    <tr>\n      <th>2025-04-01</th>\n      <td>MSFT</td>\n      <td>$76,441,000,000.00</td>\n      <td>$63,982,784,512.00</td>\n      <td>$63,982,784,512.00</td>\n      <td>$71,287,398,400.00</td>\n    </tr>\n  </tbody>\n</table>\n</div>"
          },
          "metadata": {}
        }
      ],
      "execution_count": 13,
      "metadata": {
        "gather": {
          "logged": 1759681710320
        }
      }
    },
    {
      "cell_type": "code",
      "source": [
        "# Go back to our full feature-engineered dataframe (before rows were dropped)\n",
        "# and get the very last row for each company.\n",
        "future_input_df = df.groupby('ticker').last()\n",
        "\n",
        "# The 'prediction_quarter' for our forecast is the next quarter after the last known one\n",
        "future_input_df['prediction_quarter'] = future_input_df['prediction_quarter'] + pd.DateOffset(months=3)\n",
        "\n",
        "# Ensure the feature columns match the model's training columns exactly\n",
        "X_future = future_input_df[X_train.columns]\n",
        "\n",
        "# Convert quarter to the correct categorical type\n",
        "X_future['quarter'] = X_future['quarter'].astype('category')\n",
        "\n",
        "print(\"Feature set for the upcoming quarter:\")\n",
        "display(X_future)"
      ],
      "outputs": [
        {
          "output_type": "stream",
          "name": "stderr",
          "text": "/tmp/ipykernel_18256/3683561379.py:12: SettingWithCopyWarning: \nA value is trying to be set on a copy of a slice from a DataFrame.\nTry using .loc[row_indexer,col_indexer] = value instead\n\nSee the caveats in the documentation: https://pandas.pydata.org/pandas-docs/stable/user_guide/indexing.html#returning-a-view-versus-a-copy\n  X_future['quarter'] = X_future['quarter'].astype('category')\n"
        },
        {
          "output_type": "display_data",
          "data": {
            "text/plain": "           revenues_lag_1      revenues_lag_2     revenues_lag_3  \\\nticker                                                             \nAAPL   $95,359,000,000.00 $124,300,000,000.00 $94,930,000,000.00   \nGOOGL  $90,234,000,000.00  $96,469,000,000.00 $88,268,000,000.00   \nMSFT   $70,066,000,000.00  $69,632,000,000.00 $65,585,000,000.00   \n\n           revenues_lag_4  revenues_rolling_avg_4   net_income_lag_2  \\\nticker                                                                 \nAAPL   $85,777,000,000.00     $102,156,250,000.00 $36,330,000,000.00   \nGOOGL  $84,742,000,000.00      $92,849,750,000.00 $26,536,000,000.00   \nMSFT   $64,727,000,000.00      $70,431,000,000.00 $24,108,000,000.00   \n\n         net_income_lag_3   net_income_lag_4  net_income_rolling_avg_4  \\\nticker                                                                   \nAAPL   $14,736,000,000.00 $21,448,000,000.00        $24,820,000,000.00   \nGOOGL  $26,301,000,000.00 $23,619,000,000.00        $28,893,250,000.00   \nMSFT   $24,667,000,000.00 $22,036,000,000.00        $25,458,000,000.00   \n\n        research_and_development_expense_lag_4  ...  shareholder_equity_lag_2  \\\nticker                                          ...                             \nAAPL                         $8,006,000,000.00  ...        $66,758,000,000.00   \nGOOGL                       $11,860,000,000.00  ...       $325,084,000,000.00   \nMSFT                         $8,056,000,000.00  ...       $302,695,000,000.00   \n\n        shareholder_equity_lag_3  shareholder_equity_lag_4  gdp_lag_1  \\\nticker                                                                  \nAAPL          $56,950,000,000.00        $66,708,000,000.00 $30,042.11   \nGOOGL        $314,119,000,000.00       $300,753,000,000.00 $30,042.11   \nMSFT         $287,723,000,000.00       $268,477,000,000.00 $30,042.11   \n\n        gdp_lag_2  cpi_lag_1  unemployment_lag_1  unemployment_lag_2  year  \\\nticker                                                                       \nAAPL   $29,825.18    $319.49               $4.10               $4.13  2025   \nGOOGL  $29,825.18    $319.49               $4.10               $4.13  2025   \nMSFT   $29,825.18    $319.49               $4.10               $4.13  2025   \n\n        quarter  \nticker           \nAAPL          3  \nGOOGL         3  \nMSFT          3  \n\n[3 rows x 33 columns]",
            "text/html": "<div>\n<style scoped>\n    .dataframe tbody tr th:only-of-type {\n        vertical-align: middle;\n    }\n\n    .dataframe tbody tr th {\n        vertical-align: top;\n    }\n\n    .dataframe thead th {\n        text-align: right;\n    }\n</style>\n<table border=\"1\" class=\"dataframe\">\n  <thead>\n    <tr style=\"text-align: right;\">\n      <th></th>\n      <th>revenues_lag_1</th>\n      <th>revenues_lag_2</th>\n      <th>revenues_lag_3</th>\n      <th>revenues_lag_4</th>\n      <th>revenues_rolling_avg_4</th>\n      <th>net_income_lag_2</th>\n      <th>net_income_lag_3</th>\n      <th>net_income_lag_4</th>\n      <th>net_income_rolling_avg_4</th>\n      <th>research_and_development_expense_lag_4</th>\n      <th>...</th>\n      <th>shareholder_equity_lag_2</th>\n      <th>shareholder_equity_lag_3</th>\n      <th>shareholder_equity_lag_4</th>\n      <th>gdp_lag_1</th>\n      <th>gdp_lag_2</th>\n      <th>cpi_lag_1</th>\n      <th>unemployment_lag_1</th>\n      <th>unemployment_lag_2</th>\n      <th>year</th>\n      <th>quarter</th>\n    </tr>\n    <tr>\n      <th>ticker</th>\n      <th></th>\n      <th></th>\n      <th></th>\n      <th></th>\n      <th></th>\n      <th></th>\n      <th></th>\n      <th></th>\n      <th></th>\n      <th></th>\n      <th></th>\n      <th></th>\n      <th></th>\n      <th></th>\n      <th></th>\n      <th></th>\n      <th></th>\n      <th></th>\n      <th></th>\n      <th></th>\n      <th></th>\n    </tr>\n  </thead>\n  <tbody>\n    <tr>\n      <th>AAPL</th>\n      <td>$95,359,000,000.00</td>\n      <td>$124,300,000,000.00</td>\n      <td>$94,930,000,000.00</td>\n      <td>$85,777,000,000.00</td>\n      <td>$102,156,250,000.00</td>\n      <td>$36,330,000,000.00</td>\n      <td>$14,736,000,000.00</td>\n      <td>$21,448,000,000.00</td>\n      <td>$24,820,000,000.00</td>\n      <td>$8,006,000,000.00</td>\n      <td>...</td>\n      <td>$66,758,000,000.00</td>\n      <td>$56,950,000,000.00</td>\n      <td>$66,708,000,000.00</td>\n      <td>$30,042.11</td>\n      <td>$29,825.18</td>\n      <td>$319.49</td>\n      <td>$4.10</td>\n      <td>$4.13</td>\n      <td>2025</td>\n      <td>3</td>\n    </tr>\n    <tr>\n      <th>GOOGL</th>\n      <td>$90,234,000,000.00</td>\n      <td>$96,469,000,000.00</td>\n      <td>$88,268,000,000.00</td>\n      <td>$84,742,000,000.00</td>\n      <td>$92,849,750,000.00</td>\n      <td>$26,536,000,000.00</td>\n      <td>$26,301,000,000.00</td>\n      <td>$23,619,000,000.00</td>\n      <td>$28,893,250,000.00</td>\n      <td>$11,860,000,000.00</td>\n      <td>...</td>\n      <td>$325,084,000,000.00</td>\n      <td>$314,119,000,000.00</td>\n      <td>$300,753,000,000.00</td>\n      <td>$30,042.11</td>\n      <td>$29,825.18</td>\n      <td>$319.49</td>\n      <td>$4.10</td>\n      <td>$4.13</td>\n      <td>2025</td>\n      <td>3</td>\n    </tr>\n    <tr>\n      <th>MSFT</th>\n      <td>$70,066,000,000.00</td>\n      <td>$69,632,000,000.00</td>\n      <td>$65,585,000,000.00</td>\n      <td>$64,727,000,000.00</td>\n      <td>$70,431,000,000.00</td>\n      <td>$24,108,000,000.00</td>\n      <td>$24,667,000,000.00</td>\n      <td>$22,036,000,000.00</td>\n      <td>$25,458,000,000.00</td>\n      <td>$8,056,000,000.00</td>\n      <td>...</td>\n      <td>$302,695,000,000.00</td>\n      <td>$287,723,000,000.00</td>\n      <td>$268,477,000,000.00</td>\n      <td>$30,042.11</td>\n      <td>$29,825.18</td>\n      <td>$319.49</td>\n      <td>$4.10</td>\n      <td>$4.13</td>\n      <td>2025</td>\n      <td>3</td>\n    </tr>\n  </tbody>\n</table>\n<p>3 rows × 33 columns</p>\n</div>"
          },
          "metadata": {}
        }
      ],
      "execution_count": 14,
      "metadata": {
        "gather": {
          "logged": 1759682483879
        }
      }
    },
    {
      "cell_type": "code",
      "source": [
        "df.tail(10)"
      ],
      "outputs": [
        {
          "output_type": "execute_result",
          "execution_count": 15,
          "data": {
            "text/plain": "    prediction_quarter ticker report_date     revenues  \\\n233         2023-04-01   MSFT  2023-03-31  52857000000   \n234         2023-07-01   MSFT  2023-06-30  56189000000   \n235         2023-10-01   MSFT  2023-09-30  56517000000   \n236         2024-01-01   MSFT  2023-12-31  62020000000   \n237         2024-04-01   MSFT  2024-03-31  61858000000   \n238         2024-07-01   MSFT  2024-06-30  64727000000   \n239         2024-10-01   MSFT  2024-09-30  65585000000   \n240         2025-01-01   MSFT  2024-12-31  69632000000   \n241         2025-04-01   MSFT  2025-03-31  70066000000   \n242         2025-07-01   MSFT  2025-06-30  76441000000   \n\n     research_and_development_expense  \\\n233                        6984000000   \n234                        6739000000   \n235                        6659000000   \n236                        7142000000   \n237                        7653000000   \n238                        8056000000   \n239                        7544000000   \n240                        7917000000   \n241                        8198000000   \n242                        8829000000   \n\n     selling_general_and_administrative_expense   net_income        assets  \\\n233                                  1643000000  18299000000  380088000000   \n234                                  2197000000  20081000000  411976000000   \n235                                  1474000000  22291000000  445785000000   \n236                                  1977000000  21870000000  470558000000   \n237                                  1912000000  21939000000  484275000000   \n238                                  2246000000  22036000000  512163000000   \n239                                  1673000000  24667000000  523013000000   \n240                                  1823000000  24108000000  533898000000   \n241                                  1737000000  25824000000  562624000000   \n242                                  1990000000  27233000000  619003000000   \n\n      liabilities        gdp  ...   liabilities_lag_4  \\\n233  185405000000 $27,216.44  ... $181,683,000,000.00   \n234  205753000000 $27,530.06  ... $198,298,000,000.00   \n235  225071000000 $28,074.85  ... $186,218,000,000.00   \n236  232290000000 $28,424.72  ... $181,416,000,000.00   \n237  231123000000 $28,708.16  ... $185,405,000,000.00   \n238  243686000000 $29,147.04  ... $205,753,000,000.00   \n239  235290000000 $29,511.66  ... $225,071,000,000.00   \n240  231203000000 $29,825.18  ... $232,290,000,000.00   \n241  240733000000 $30,042.11  ... $231,123,000,000.00   \n242  275524000000 $30,485.73  ... $243,686,000,000.00   \n\n     shareholder_equity_lag_2  shareholder_equity_lag_3  \\\n233       $173,566,000,000.00       $166,542,000,000.00   \n234       $183,136,000,000.00       $173,566,000,000.00   \n235       $194,683,000,000.00       $183,136,000,000.00   \n236       $206,223,000,000.00       $194,683,000,000.00   \n237       $220,714,000,000.00       $206,223,000,000.00   \n238       $238,268,000,000.00       $220,714,000,000.00   \n239       $253,152,000,000.00       $238,268,000,000.00   \n240       $268,477,000,000.00       $253,152,000,000.00   \n241       $287,723,000,000.00       $268,477,000,000.00   \n242       $302,695,000,000.00       $287,723,000,000.00   \n\n     shareholder_equity_lag_4  gdp_lag_1  gdp_lag_2  cpi_lag_1  \\\n233       $162,924,000,000.00 $26,770.51 $26,336.30    $298.50   \n234       $166,542,000,000.00 $27,216.44 $26,770.51    $301.19   \n235       $173,566,000,000.00 $27,530.06 $27,216.44    $303.42   \n236       $183,136,000,000.00 $28,074.85 $27,530.06    $306.04   \n237       $194,683,000,000.00 $28,424.72 $28,074.85    $308.16   \n238       $206,223,000,000.00 $28,708.16 $28,424.72    $310.97   \n239       $220,714,000,000.00 $29,147.04 $28,708.16    $313.10   \n240       $238,268,000,000.00 $29,511.66 $29,147.04    $314.18   \n241       $253,152,000,000.00 $29,825.18 $29,511.66    $316.54   \n242       $268,477,000,000.00 $30,042.11 $29,825.18    $319.49   \n\n     unemployment_lag_1  unemployment_lag_2  revenue_seasonal_diff  \n233               $3.57               $3.53        $959,250,000.00  \n234               $3.53               $3.57      $3,210,250,000.00  \n235               $3.53               $3.53      $1,939,500,000.00  \n236               $3.67               $3.53      $5,124,250,000.00  \n237               $3.80               $3.67      $2,712,000,000.00  \n238               $3.83               $3.80      $3,446,500,000.00  \n239               $4.00               $3.83      $2,037,500,000.00  \n240               $4.17               $4.00      $4,181,500,000.00  \n241               $4.13               $4.17      $2,563,500,000.00  \n242               $4.10               $4.13      $6,010,000,000.00  \n\n[10 rows x 48 columns]",
            "text/html": "<div>\n<style scoped>\n    .dataframe tbody tr th:only-of-type {\n        vertical-align: middle;\n    }\n\n    .dataframe tbody tr th {\n        vertical-align: top;\n    }\n\n    .dataframe thead th {\n        text-align: right;\n    }\n</style>\n<table border=\"1\" class=\"dataframe\">\n  <thead>\n    <tr style=\"text-align: right;\">\n      <th></th>\n      <th>prediction_quarter</th>\n      <th>ticker</th>\n      <th>report_date</th>\n      <th>revenues</th>\n      <th>research_and_development_expense</th>\n      <th>selling_general_and_administrative_expense</th>\n      <th>net_income</th>\n      <th>assets</th>\n      <th>liabilities</th>\n      <th>gdp</th>\n      <th>...</th>\n      <th>liabilities_lag_4</th>\n      <th>shareholder_equity_lag_2</th>\n      <th>shareholder_equity_lag_3</th>\n      <th>shareholder_equity_lag_4</th>\n      <th>gdp_lag_1</th>\n      <th>gdp_lag_2</th>\n      <th>cpi_lag_1</th>\n      <th>unemployment_lag_1</th>\n      <th>unemployment_lag_2</th>\n      <th>revenue_seasonal_diff</th>\n    </tr>\n  </thead>\n  <tbody>\n    <tr>\n      <th>233</th>\n      <td>2023-04-01</td>\n      <td>MSFT</td>\n      <td>2023-03-31</td>\n      <td>52857000000</td>\n      <td>6984000000</td>\n      <td>1643000000</td>\n      <td>18299000000</td>\n      <td>380088000000</td>\n      <td>185405000000</td>\n      <td>$27,216.44</td>\n      <td>...</td>\n      <td>$181,683,000,000.00</td>\n      <td>$173,566,000,000.00</td>\n      <td>$166,542,000,000.00</td>\n      <td>$162,924,000,000.00</td>\n      <td>$26,770.51</td>\n      <td>$26,336.30</td>\n      <td>$298.50</td>\n      <td>$3.57</td>\n      <td>$3.53</td>\n      <td>$959,250,000.00</td>\n    </tr>\n    <tr>\n      <th>234</th>\n      <td>2023-07-01</td>\n      <td>MSFT</td>\n      <td>2023-06-30</td>\n      <td>56189000000</td>\n      <td>6739000000</td>\n      <td>2197000000</td>\n      <td>20081000000</td>\n      <td>411976000000</td>\n      <td>205753000000</td>\n      <td>$27,530.06</td>\n      <td>...</td>\n      <td>$198,298,000,000.00</td>\n      <td>$183,136,000,000.00</td>\n      <td>$173,566,000,000.00</td>\n      <td>$166,542,000,000.00</td>\n      <td>$27,216.44</td>\n      <td>$26,770.51</td>\n      <td>$301.19</td>\n      <td>$3.53</td>\n      <td>$3.57</td>\n      <td>$3,210,250,000.00</td>\n    </tr>\n    <tr>\n      <th>235</th>\n      <td>2023-10-01</td>\n      <td>MSFT</td>\n      <td>2023-09-30</td>\n      <td>56517000000</td>\n      <td>6659000000</td>\n      <td>1474000000</td>\n      <td>22291000000</td>\n      <td>445785000000</td>\n      <td>225071000000</td>\n      <td>$28,074.85</td>\n      <td>...</td>\n      <td>$186,218,000,000.00</td>\n      <td>$194,683,000,000.00</td>\n      <td>$183,136,000,000.00</td>\n      <td>$173,566,000,000.00</td>\n      <td>$27,530.06</td>\n      <td>$27,216.44</td>\n      <td>$303.42</td>\n      <td>$3.53</td>\n      <td>$3.53</td>\n      <td>$1,939,500,000.00</td>\n    </tr>\n    <tr>\n      <th>236</th>\n      <td>2024-01-01</td>\n      <td>MSFT</td>\n      <td>2023-12-31</td>\n      <td>62020000000</td>\n      <td>7142000000</td>\n      <td>1977000000</td>\n      <td>21870000000</td>\n      <td>470558000000</td>\n      <td>232290000000</td>\n      <td>$28,424.72</td>\n      <td>...</td>\n      <td>$181,416,000,000.00</td>\n      <td>$206,223,000,000.00</td>\n      <td>$194,683,000,000.00</td>\n      <td>$183,136,000,000.00</td>\n      <td>$28,074.85</td>\n      <td>$27,530.06</td>\n      <td>$306.04</td>\n      <td>$3.67</td>\n      <td>$3.53</td>\n      <td>$5,124,250,000.00</td>\n    </tr>\n    <tr>\n      <th>237</th>\n      <td>2024-04-01</td>\n      <td>MSFT</td>\n      <td>2024-03-31</td>\n      <td>61858000000</td>\n      <td>7653000000</td>\n      <td>1912000000</td>\n      <td>21939000000</td>\n      <td>484275000000</td>\n      <td>231123000000</td>\n      <td>$28,708.16</td>\n      <td>...</td>\n      <td>$185,405,000,000.00</td>\n      <td>$220,714,000,000.00</td>\n      <td>$206,223,000,000.00</td>\n      <td>$194,683,000,000.00</td>\n      <td>$28,424.72</td>\n      <td>$28,074.85</td>\n      <td>$308.16</td>\n      <td>$3.80</td>\n      <td>$3.67</td>\n      <td>$2,712,000,000.00</td>\n    </tr>\n    <tr>\n      <th>238</th>\n      <td>2024-07-01</td>\n      <td>MSFT</td>\n      <td>2024-06-30</td>\n      <td>64727000000</td>\n      <td>8056000000</td>\n      <td>2246000000</td>\n      <td>22036000000</td>\n      <td>512163000000</td>\n      <td>243686000000</td>\n      <td>$29,147.04</td>\n      <td>...</td>\n      <td>$205,753,000,000.00</td>\n      <td>$238,268,000,000.00</td>\n      <td>$220,714,000,000.00</td>\n      <td>$206,223,000,000.00</td>\n      <td>$28,708.16</td>\n      <td>$28,424.72</td>\n      <td>$310.97</td>\n      <td>$3.83</td>\n      <td>$3.80</td>\n      <td>$3,446,500,000.00</td>\n    </tr>\n    <tr>\n      <th>239</th>\n      <td>2024-10-01</td>\n      <td>MSFT</td>\n      <td>2024-09-30</td>\n      <td>65585000000</td>\n      <td>7544000000</td>\n      <td>1673000000</td>\n      <td>24667000000</td>\n      <td>523013000000</td>\n      <td>235290000000</td>\n      <td>$29,511.66</td>\n      <td>...</td>\n      <td>$225,071,000,000.00</td>\n      <td>$253,152,000,000.00</td>\n      <td>$238,268,000,000.00</td>\n      <td>$220,714,000,000.00</td>\n      <td>$29,147.04</td>\n      <td>$28,708.16</td>\n      <td>$313.10</td>\n      <td>$4.00</td>\n      <td>$3.83</td>\n      <td>$2,037,500,000.00</td>\n    </tr>\n    <tr>\n      <th>240</th>\n      <td>2025-01-01</td>\n      <td>MSFT</td>\n      <td>2024-12-31</td>\n      <td>69632000000</td>\n      <td>7917000000</td>\n      <td>1823000000</td>\n      <td>24108000000</td>\n      <td>533898000000</td>\n      <td>231203000000</td>\n      <td>$29,825.18</td>\n      <td>...</td>\n      <td>$232,290,000,000.00</td>\n      <td>$268,477,000,000.00</td>\n      <td>$253,152,000,000.00</td>\n      <td>$238,268,000,000.00</td>\n      <td>$29,511.66</td>\n      <td>$29,147.04</td>\n      <td>$314.18</td>\n      <td>$4.17</td>\n      <td>$4.00</td>\n      <td>$4,181,500,000.00</td>\n    </tr>\n    <tr>\n      <th>241</th>\n      <td>2025-04-01</td>\n      <td>MSFT</td>\n      <td>2025-03-31</td>\n      <td>70066000000</td>\n      <td>8198000000</td>\n      <td>1737000000</td>\n      <td>25824000000</td>\n      <td>562624000000</td>\n      <td>240733000000</td>\n      <td>$30,042.11</td>\n      <td>...</td>\n      <td>$231,123,000,000.00</td>\n      <td>$287,723,000,000.00</td>\n      <td>$268,477,000,000.00</td>\n      <td>$253,152,000,000.00</td>\n      <td>$29,825.18</td>\n      <td>$29,511.66</td>\n      <td>$316.54</td>\n      <td>$4.13</td>\n      <td>$4.17</td>\n      <td>$2,563,500,000.00</td>\n    </tr>\n    <tr>\n      <th>242</th>\n      <td>2025-07-01</td>\n      <td>MSFT</td>\n      <td>2025-06-30</td>\n      <td>76441000000</td>\n      <td>8829000000</td>\n      <td>1990000000</td>\n      <td>27233000000</td>\n      <td>619003000000</td>\n      <td>275524000000</td>\n      <td>$30,485.73</td>\n      <td>...</td>\n      <td>$243,686,000,000.00</td>\n      <td>$302,695,000,000.00</td>\n      <td>$287,723,000,000.00</td>\n      <td>$268,477,000,000.00</td>\n      <td>$30,042.11</td>\n      <td>$29,825.18</td>\n      <td>$319.49</td>\n      <td>$4.10</td>\n      <td>$4.13</td>\n      <td>$6,010,000,000.00</td>\n    </tr>\n  </tbody>\n</table>\n<p>10 rows × 48 columns</p>\n</div>"
          },
          "metadata": {}
        }
      ],
      "execution_count": 15,
      "metadata": {
        "gather": {
          "logged": 1759682982285
        }
      }
    },
    {
      "cell_type": "code",
      "source": [
        "# Combine all historical data\n",
        "X_all_history = pd.concat([X_train_full, X_test])\n",
        "y_all_history = pd.concat([y_train_full, y_test])\n",
        "\n",
        "print(f\"Re-training models on all {len(X_all_history)} available historical data points...\")\n",
        "\n",
        "# Re-train all three quantile models on the complete dataset\n",
        "model_lower.fit(X_all_history, y_all_history['target_revenue_next_q'])\n",
        "model_median.fit(X_all_history, y_all_history['target_revenue_next_q'])\n",
        "model_upper.fit(X_all_history, y_all_history['target_revenue_next_q'])\n",
        "\n",
        "print(\"Final models are ready.\")"
      ],
      "outputs": [
        {
          "output_type": "stream",
          "name": "stdout",
          "text": "Re-training models on all 216 available historical data points...\nFinal models are ready.\n"
        }
      ],
      "execution_count": 16,
      "metadata": {
        "gather": {
          "logged": 1759683209858
        }
      }
    },
    {
      "cell_type": "code",
      "source": [
        "# Generate the prediction interval for the future quarter\n",
        "future_lower = model_lower.predict(X_future)\n",
        "future_median = model_median.predict(X_future)\n",
        "future_upper = model_upper.predict(X_future)\n",
        "\n",
        "# Create a DataFrame to show the forecast\n",
        "forecast_df = pd.DataFrame({\n",
        "    'Ticker': X_future.index,\n",
        "    # ✅ --- FIX: Get the date from 'future_input_df', not 'X_future' ---\n",
        "    'Forecast_Quarter': future_input_df['prediction_quarter'],\n",
        "    'Lower_Bound': future_lower,\n",
        "    'Forecast': future_median,\n",
        "    'Upper_Bound': future_upper\n",
        "}).set_index('Ticker')\n",
        "\n",
        "# Apply the same post-processing to prevent quantile crossing\n",
        "forecast_df['Lower_Bound'] = forecast_df[['Lower_Bound', 'Forecast', 'Upper_Bound']].min(axis=1)\n",
        "forecast_df['Upper_Bound'] = forecast_df[['Lower_Bound', 'Forecast', 'Upper_Bound']].max(axis=1)\n",
        "\n",
        "print(\"\\n--- FINAL REVENUE FORECAST ---\")\n",
        "display(forecast_df)"
      ],
      "outputs": [
        {
          "output_type": "stream",
          "name": "stdout",
          "text": "\n--- FINAL REVENUE FORECAST ---\n"
        },
        {
          "output_type": "display_data",
          "data": {
            "text/plain": "       Forecast_Quarter        Lower_Bound            Forecast  \\\nTicker                                                           \nAAPL         2025-10-01 $77,680,574,464.00  $96,196,132,864.00   \nGOOGL        2025-10-01 $78,687,600,640.00 $100,290,977,792.00   \nMSFT         2025-10-01 $74,857,472,000.00  $77,237,428,224.00   \n\n               Upper_Bound  \nTicker                      \nAAPL    $96,196,132,864.00  \nGOOGL  $102,920,724,480.00  \nMSFT    $77,237,428,224.00  ",
            "text/html": "<div>\n<style scoped>\n    .dataframe tbody tr th:only-of-type {\n        vertical-align: middle;\n    }\n\n    .dataframe tbody tr th {\n        vertical-align: top;\n    }\n\n    .dataframe thead th {\n        text-align: right;\n    }\n</style>\n<table border=\"1\" class=\"dataframe\">\n  <thead>\n    <tr style=\"text-align: right;\">\n      <th></th>\n      <th>Forecast_Quarter</th>\n      <th>Lower_Bound</th>\n      <th>Forecast</th>\n      <th>Upper_Bound</th>\n    </tr>\n    <tr>\n      <th>Ticker</th>\n      <th></th>\n      <th></th>\n      <th></th>\n      <th></th>\n    </tr>\n  </thead>\n  <tbody>\n    <tr>\n      <th>AAPL</th>\n      <td>2025-10-01</td>\n      <td>$77,680,574,464.00</td>\n      <td>$96,196,132,864.00</td>\n      <td>$96,196,132,864.00</td>\n    </tr>\n    <tr>\n      <th>GOOGL</th>\n      <td>2025-10-01</td>\n      <td>$78,687,600,640.00</td>\n      <td>$100,290,977,792.00</td>\n      <td>$102,920,724,480.00</td>\n    </tr>\n    <tr>\n      <th>MSFT</th>\n      <td>2025-10-01</td>\n      <td>$74,857,472,000.00</td>\n      <td>$77,237,428,224.00</td>\n      <td>$77,237,428,224.00</td>\n    </tr>\n  </tbody>\n</table>\n</div>"
          },
          "metadata": {}
        }
      ],
      "execution_count": 18,
      "metadata": {
        "gather": {
          "logged": 1759683365105
        }
      }
    }
  ],
  "metadata": {
    "kernelspec": {
      "name": "python310-sdkv2",
      "language": "python",
      "display_name": "Python 3.10 - SDK v2"
    },
    "language_info": {
      "name": "python",
      "version": "3.10.18",
      "mimetype": "text/x-python",
      "codemirror_mode": {
        "name": "ipython",
        "version": 3
      },
      "pygments_lexer": "ipython3",
      "nbconvert_exporter": "python",
      "file_extension": ".py"
    },
    "microsoft": {
      "ms_spell_check": {
        "ms_spell_check_language": "en"
      },
      "host": {
        "AzureML": {
          "notebookHasBeenCompleted": true
        }
      }
    },
    "kernel_info": {
      "name": "python310-sdkv2"
    },
    "nteract": {
      "version": "nteract-front-end@1.0.0"
    }
  },
  "nbformat": 4,
  "nbformat_minor": 2
}